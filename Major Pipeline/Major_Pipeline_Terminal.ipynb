{
 "cells": [
  {
   "cell_type": "markdown",
   "id": "a2b27a8e",
   "metadata": {},
   "source": [
    "# Import Functions, Libraries.."
   ]
  },
  {
   "cell_type": "code",
   "execution_count": 1,
   "id": "a2fa5c18",
   "metadata": {},
   "outputs": [],
   "source": [
    "import numpy as np\n",
    "import pandas as pd\n",
    "from datetime import datetime\n",
    "import re\n",
    "from collections import Counter\n",
    "import sys\n",
    "import os\n",
    "import glob\n",
    "import matplotlib.pyplot as plt\n",
    "from sklearn.preprocessing import StandardScaler\n",
    "\n",
    "\n",
    "%run Functions/Data_Cleaning_Functions.ipynb\n",
    "%run Functions/Data_Transformation_Functions.ipynb\n",
    "%run Functions/Major_Pipeline_Functions.ipynb"
   ]
  },
  {
   "cell_type": "markdown",
   "id": "cfbd7ac2",
   "metadata": {},
   "source": [
    "# Configure the Pipeline"
   ]
  },
  {
   "cell_type": "code",
   "execution_count": 2,
   "id": "b94bfbf8",
   "metadata": {},
   "outputs": [
    {
     "name": "stdout",
     "output_type": "stream",
     "text": [
      "Create new Cleaned Data [yes/no]? no\n",
      "Create new Dummied Data [yes/no]? no\n",
      "Create new Model [yes/no]? yes\n"
     ]
    }
   ],
   "source": [
    "do_cleaning, do_dummy, create_model = get_user_inputs()"
   ]
  },
  {
   "cell_type": "markdown",
   "id": "541c8416",
   "metadata": {},
   "source": [
    "# Data Cleaning"
   ]
  },
  {
   "cell_type": "code",
   "execution_count": 3,
   "id": "c6341293",
   "metadata": {
    "scrolled": true
   },
   "outputs": [],
   "source": [
    "if do_cleaning:\n",
    "    \n",
    "    %run Data_Cleaning.ipynb"
   ]
  },
  {
   "cell_type": "markdown",
   "id": "fc5884c6",
   "metadata": {},
   "source": [
    "# Dummy Transforming"
   ]
  },
  {
   "cell_type": "code",
   "execution_count": 4,
   "id": "11ed836f",
   "metadata": {},
   "outputs": [],
   "source": [
    "if do_dummy: \n",
    "    \n",
    "    %run Dummy_Transformation.ipynb"
   ]
  },
  {
   "cell_type": "markdown",
   "id": "ae01ebf6",
   "metadata": {},
   "source": [
    "# Model Creation"
   ]
  },
  {
   "cell_type": "code",
   "execution_count": 5,
   "id": "be3d1929",
   "metadata": {},
   "outputs": [
    {
     "name": "stdout",
     "output_type": "stream",
     "text": [
      "######################### 1. Importing Dummied Data #########################\n",
      "1. most recent file:\n",
      "\n",
      "Data\\Transformed Data\\Dummy Transformed\\data_dummied_2024_07_16 12-28.csv\n",
      "Imported Dummy Data!\n",
      "\n",
      "######################### 1. Finished Importing Dummied Data #########################\n",
      "\n",
      "\n",
      "######################### 2. Creating XGB Model #########################\n",
      "\n",
      "Model Results:\n",
      "R-squared: 0.9757903141647585, RMSE: 3963.7806047706054\n",
      "Average Procentual Prediction Error: 0.09706699293075491\n",
      "######################### 2. Finished Creating XGB Model #########################\n",
      "\n",
      "\n",
      "######################### 2. Saving XGB Model #########################\n",
      "\n",
      "######################### 2. Finished Saving XGB Model #########################\n",
      "\n",
      "\n"
     ]
    }
   ],
   "source": [
    "if create_model:\n",
    "    \n",
    "    %run Model_Creation.ipynb"
   ]
  },
  {
   "cell_type": "code",
   "execution_count": null,
   "id": "6e827f73",
   "metadata": {},
   "outputs": [],
   "source": []
  }
 ],
 "metadata": {
  "kernelspec": {
   "display_name": "Python 3 (ipykernel)",
   "language": "python",
   "name": "python3"
  },
  "language_info": {
   "codemirror_mode": {
    "name": "ipython",
    "version": 3
   },
   "file_extension": ".py",
   "mimetype": "text/x-python",
   "name": "python",
   "nbconvert_exporter": "python",
   "pygments_lexer": "ipython3",
   "version": "3.9.12"
  },
  "toc": {
   "base_numbering": 1,
   "nav_menu": {},
   "number_sections": true,
   "sideBar": true,
   "skip_h1_title": false,
   "title_cell": "Table of Contents",
   "title_sidebar": "Contents",
   "toc_cell": false,
   "toc_position": {
    "height": "867.778px",
    "left": "106px",
    "top": "111.441px",
    "width": "211.997px"
   },
   "toc_section_display": true,
   "toc_window_display": true
  },
  "varInspector": {
   "cols": {
    "lenName": 16,
    "lenType": 16,
    "lenVar": 40
   },
   "kernels_config": {
    "python": {
     "delete_cmd_postfix": "",
     "delete_cmd_prefix": "del ",
     "library": "var_list.py",
     "varRefreshCmd": "print(var_dic_list())"
    },
    "r": {
     "delete_cmd_postfix": ") ",
     "delete_cmd_prefix": "rm(",
     "library": "var_list.r",
     "varRefreshCmd": "cat(var_dic_list()) "
    }
   },
   "types_to_exclude": [
    "module",
    "function",
    "builtin_function_or_method",
    "instance",
    "_Feature"
   ],
   "window_display": false
  }
 },
 "nbformat": 4,
 "nbformat_minor": 5
}
