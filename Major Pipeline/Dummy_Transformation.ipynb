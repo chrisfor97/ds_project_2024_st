{
 "cells": [
  {
   "cell_type": "code",
   "execution_count": 1,
   "id": "7777f7f4",
   "metadata": {},
   "outputs": [],
   "source": [
    "import numpy as np\n",
    "import pandas as pd\n",
    "import sys\n",
    "import os\n",
    "import glob\n",
    "from datetime import datetime\n",
    "import matplotlib.pyplot as plt\n",
    "from scipy.sparse import csr_matrix\n",
    "from sklearn.preprocessing import StandardScaler\n",
    "from sklearn.decomposition import PCA, TruncatedSVD\n",
    "\n",
    "\n",
    "%run Functions/Data_Transformation_Functions.ipynb"
   ]
  },
  {
   "cell_type": "markdown",
   "id": "603e8a60",
   "metadata": {},
   "source": [
    "# Data Import"
   ]
  },
  {
   "cell_type": "code",
   "execution_count": 2,
   "id": "05e1145d",
   "metadata": {},
   "outputs": [
    {
     "name": "stdout",
     "output_type": "stream",
     "text": [
      "######################### 1. Data Import #########################\n",
      "\n"
     ]
    }
   ],
   "source": [
    "print(\"######################### 1. Data Import #########################\")\n",
    "print(\"\")"
   ]
  },
  {
   "cell_type": "code",
   "execution_count": 3,
   "id": "5af33b70",
   "metadata": {},
   "outputs": [],
   "source": [
    "# set the path of the input data\n",
    "input_path = \"Data\\\\Cleaned Data\\\\\""
   ]
  },
  {
   "cell_type": "code",
   "execution_count": 4,
   "id": "4a9f4d11",
   "metadata": {},
   "outputs": [
    {
     "name": "stdout",
     "output_type": "stream",
     "text": [
      "1. most recent file:\n",
      "\n",
      "Data\\Cleaned Data\\cleaned_data_2024_07_13 12-13.csv\n",
      "Imported Cleaned Data!\n"
     ]
    }
   ],
   "source": [
    "# get the File Name\n",
    "n_most_recent_file = 1 # define if you want the most recent file (1), second most recent (2), ...\n",
    "most_recent_file = get_most_recent_file(input_path, n_most_recent_file)\n",
    "print(f\"{n_most_recent_file}. most recent file:\\n\\n{most_recent_file}\")\n",
    "\n",
    "# import the file\n",
    "cleaned_data = pd.read_csv(most_recent_file, low_memory = False)\n",
    "print(\"Imported Cleaned Data!\")"
   ]
  },
  {
   "cell_type": "code",
   "execution_count": null,
   "id": "5bb1bd83",
   "metadata": {},
   "outputs": [],
   "source": [
    "print(\"######################### 1. Finished Data Import #########################\")\n",
    "print(\"\")\n",
    "print(\"\")"
   ]
  },
  {
   "cell_type": "markdown",
   "id": "d9d4555f",
   "metadata": {},
   "source": [
    "# Preprocess data types"
   ]
  },
  {
   "cell_type": "code",
   "execution_count": null,
   "id": "da381547",
   "metadata": {},
   "outputs": [],
   "source": [
    "print(\"######################### 2. Preprocessing Data Types #########################\")\n",
    "print(\"\")"
   ]
  },
  {
   "cell_type": "code",
   "execution_count": 5,
   "id": "78260e4e",
   "metadata": {},
   "outputs": [],
   "source": [
    "# Define which features should be transformed how\n",
    "columns_to_integers = [\"Seats\", \"Power_HP\", \"Displacement\", \"Cylinders\", \"Warranty\"]\n",
    "columns_to_date = [\"Date_scraped\"]\n",
    "columns_to_floats = []\n",
    "columns_to_categorical = []\n",
    "columns_to_drop = []\n"
   ]
  },
  {
   "cell_type": "code",
   "execution_count": 6,
   "id": "26873b09",
   "metadata": {},
   "outputs": [],
   "source": [
    "data_type_transformed = data_type_transformer(cleaned_data, columns_to_integers, columns_to_date,\n",
    "                                   columns_to_floats, columns_to_categorical,\n",
    "                                   columns_to_drop)"
   ]
  },
  {
   "cell_type": "code",
   "execution_count": 7,
   "id": "98e3c499",
   "metadata": {},
   "outputs": [
    {
     "name": "stdout",
     "output_type": "stream",
     "text": [
      "Data Type Transformation done with 374370 entries and 613 columns!\n"
     ]
    }
   ],
   "source": [
    "print(f\"Data Type Transformation done with {len(data_type_transformed)} entries and {len(data_type_transformed.columns)} columns!\")"
   ]
  },
  {
   "cell_type": "code",
   "execution_count": null,
   "id": "2832adcc",
   "metadata": {},
   "outputs": [],
   "source": [
    "print(\"\")\n",
    "print(\"######################### 2. Finished Preprocessing Data Types #########################\")\n",
    "print(\"\")\n",
    "print(\"\")"
   ]
  },
  {
   "cell_type": "markdown",
   "id": "6a25081c",
   "metadata": {},
   "source": [
    "# Dummy Transformation"
   ]
  },
  {
   "cell_type": "markdown",
   "id": "df9864e8",
   "metadata": {},
   "source": [
    "##  Perform Dummy Transformation"
   ]
  },
  {
   "cell_type": "code",
   "execution_count": null,
   "id": "0345ce12",
   "metadata": {},
   "outputs": [],
   "source": [
    "print(\"######################### 3. Dummy Transformation #########################\")\n",
    "print(\"\")"
   ]
  },
  {
   "cell_type": "code",
   "execution_count": 8,
   "id": "05150834",
   "metadata": {},
   "outputs": [
    {
     "name": "stdout",
     "output_type": "stream",
     "text": [
      "Dummy Transformation done with 374370 entries and 1615 columns!\n"
     ]
    }
   ],
   "source": [
    "columns_to_dummy = data_type_transformed.select_dtypes(include=['object']).columns # take all object columns\n",
    "\n",
    "# Convert the Index object to a list\n",
    "columns_to_dummy = list(columns_to_dummy)\n",
    "\n",
    "columns_to_exclude = [\"URL\", \"Date_scraped\"]  # exclude URL and Date_scraped from dummy transformation\n",
    "\n",
    "# exclude columns from dummy transformation\n",
    "for curr_column in columns_to_exclude:\n",
    "    if curr_column in columns_to_dummy:  # Check if the column exists in the list\n",
    "        columns_to_dummy.remove(curr_column)\n",
    "\n",
    "data_dummy_transformed = pd.get_dummies(data_type_transformed, columns = columns_to_dummy,\n",
    "                                        drop_first = False, dtype=float)\n",
    "\n",
    "\n",
    "print(f\"Dummy Transformation done with {len(data_dummy_transformed)} entries and {len(data_dummy_transformed.columns)} columns!\")\n"
   ]
  },
  {
   "cell_type": "markdown",
   "id": "39fe4c94",
   "metadata": {},
   "source": [
    "## Save Dummied Data"
   ]
  },
  {
   "cell_type": "code",
   "execution_count": 9,
   "id": "1e805fee",
   "metadata": {
    "scrolled": true
   },
   "outputs": [
    {
     "name": "stdout",
     "output_type": "stream",
     "text": [
      "Saving Dummied Data...\n",
      "Succesfully saved dummied dataframe to: \n",
      "\n",
      "C:\\Users\\Chris\\OneDrive\\NAS Griesterweg chris SYNC\\Bildung\\Tübingen\\4. Semester\\Data Science Project\\Sharepoint\\Jupyter Notebook\\Major Pipeline\\Data\\Transformed Data\\Dummy Transformed\\\\data_dummied_2024_07_13 12-23.csv !\n",
      "\n",
      "######################### Finished 3. Dummy Transformation #########################\n"
     ]
    }
   ],
   "source": [
    "print(\"Saving Dummied Data...\")\n",
    "save_3_3 = True\n",
    "target_folder = \"Data\\\\Transformed Data\\\\Dummy Transformed\\\\\"\n",
    "\n",
    "if save_3_3:\n",
    "    \n",
    "    save_dummied_data(data_dummy_transformed, target_folder)\n",
    "    \n",
    "print(\"\")\n",
    "print(\"######################### Finished 3. Dummy Transformation #########################\")\n",
    "print(\"\")\n",
    "print(\"\")"
   ]
  },
  {
   "cell_type": "markdown",
   "id": "ebd942c9",
   "metadata": {},
   "source": [
    "# Save Helper Data"
   ]
  },
  {
   "cell_type": "code",
   "execution_count": 12,
   "id": "c6c14f9f",
   "metadata": {
    "scrolled": true
   },
   "outputs": [
    {
     "name": "stdout",
     "output_type": "stream",
     "text": [
      "Succesfully saved dummied dataframe to: \n",
      "\n",
      "C:\\Users\\Chris\\OneDrive\\NAS Griesterweg chris SYNC\\Bildung\\Tübingen\\4. Semester\\Data Science Project\\Sharepoint\\Jupyter Notebook\\Major Pipeline\\Data\\Helper Data\\Dummy Transformed\\\\data_dummied_2024_07_13 12-27.csv !\n"
     ]
    }
   ],
   "source": [
    "print(\"######################### 4. Saving Dummied Helper Data #########################\")\n",
    "print(\"\")\n",
    "\n",
    "save_helper_data = True\n",
    "target_folder_helper = \"Data\\\\Helper Data\\\\Dummy Transformed\\\\\"\n",
    "\n",
    "if save_helper_data:\n",
    "    \n",
    "    helper_data = data_dummy_transformed.iloc[0:1]\n",
    "    save_dummied_data(helper_data, target_folder_helper)\n",
    "    \n",
    "print(\"######################### 4. Finished Saving Dummied Helper Data #########################\")\n",
    "print(\"\")\n",
    "print(\"\")"
   ]
  },
  {
   "cell_type": "markdown",
   "id": "f112824c",
   "metadata": {},
   "source": [
    "# Clear Work Space"
   ]
  },
  {
   "cell_type": "markdown",
   "id": "800c31dd",
   "metadata": {},
   "source": [
    "Automatically Clear Workspace at the end of the script to ensure that no temporary variables are kept when this script is run over the Major Pipeline Terminal"
   ]
  },
  {
   "cell_type": "code",
   "execution_count": 3,
   "id": "5e839e71",
   "metadata": {},
   "outputs": [],
   "source": [
    "clear_workspace = True\n",
    "if clear_workspace:\n",
    "    %reset -f"
   ]
  }
 ],
 "metadata": {
  "kernelspec": {
   "display_name": "Python 3 (ipykernel)",
   "language": "python",
   "name": "python3"
  },
  "language_info": {
   "codemirror_mode": {
    "name": "ipython",
    "version": 3
   },
   "file_extension": ".py",
   "mimetype": "text/x-python",
   "name": "python",
   "nbconvert_exporter": "python",
   "pygments_lexer": "ipython3",
   "version": "3.9.12"
  },
  "toc": {
   "base_numbering": 1,
   "nav_menu": {},
   "number_sections": true,
   "sideBar": false,
   "skip_h1_title": false,
   "title_cell": "Table of Contents",
   "title_sidebar": "Contents",
   "toc_cell": false,
   "toc_position": {},
   "toc_section_display": true,
   "toc_window_display": false
  },
  "varInspector": {
   "cols": {
    "lenName": 16,
    "lenType": 16,
    "lenVar": 40
   },
   "kernels_config": {
    "python": {
     "delete_cmd_postfix": "",
     "delete_cmd_prefix": "del ",
     "library": "var_list.py",
     "varRefreshCmd": "print(var_dic_list())"
    },
    "r": {
     "delete_cmd_postfix": ") ",
     "delete_cmd_prefix": "rm(",
     "library": "var_list.r",
     "varRefreshCmd": "cat(var_dic_list()) "
    }
   },
   "types_to_exclude": [
    "module",
    "function",
    "builtin_function_or_method",
    "instance",
    "_Feature"
   ],
   "window_display": false
  }
 },
 "nbformat": 4,
 "nbformat_minor": 5
}
