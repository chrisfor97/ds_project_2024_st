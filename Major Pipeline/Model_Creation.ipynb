{
 "cells": [
  {
   "cell_type": "code",
   "execution_count": 8,
   "id": "281018ba",
   "metadata": {},
   "outputs": [],
   "source": [
    "#load the packages\n",
    "import numpy as np\n",
    "import pandas as pd\n",
    "from scipy.sparse import csr_matrix\n",
    "import random\n",
    "\n",
    "from sklearn.model_selection import train_test_split\n",
    "from sklearn.model_selection import GridSearchCV\n",
    "from sklearn.metrics import mean_squared_error, r2_score\n",
    "from sklearn.ensemble import GradientBoostingRegressor #Gradient Boosting regressor\n",
    "from sklearn.feature_selection import VarianceThreshold\n",
    "import xgboost as xgb\n",
    "import torch\n",
    "import glob\n",
    "import os\n",
    "import joblib\n",
    "from datetime import datetime\n",
    "from joblib import dump\n",
    "\n",
    "%run Functions/Data_Transformation_Functions.ipynb\n",
    "%run Functions/Basic_Functions.ipynb\n",
    "%run Functions/XGB_Functions.ipynb"
   ]
  },
  {
   "cell_type": "markdown",
   "id": "de102895",
   "metadata": {},
   "source": [
    "More Explanation found in readme.txt"
   ]
  },
  {
   "cell_type": "markdown",
   "id": "6de905a0",
   "metadata": {},
   "source": [
    "# Import and Prepare Data"
   ]
  },
  {
   "cell_type": "code",
   "execution_count": null,
   "id": "5374fdce",
   "metadata": {},
   "outputs": [],
   "source": [
    "print(\"######################### 1. Importing Dummied Data #########################\")"
   ]
  },
  {
   "cell_type": "markdown",
   "id": "ca2e0ddc",
   "metadata": {},
   "source": [
    "Import Data"
   ]
  },
  {
   "cell_type": "code",
   "execution_count": 2,
   "id": "3b171bdd",
   "metadata": {},
   "outputs": [],
   "source": [
    "# get the path of the input data\n",
    "input_path = \"Data\\\\Transformed Data\\\\Dummy Transformed\\\\\""
   ]
  },
  {
   "cell_type": "code",
   "execution_count": 3,
   "id": "9054c38f",
   "metadata": {
    "scrolled": false
   },
   "outputs": [
    {
     "name": "stdout",
     "output_type": "stream",
     "text": [
      "1. most recent file:\n",
      "\n",
      "Data\\Transformed Data\\Dummy Transformed\\data_dummied_2024_07_13 12-23.csv\n",
      "Imported Dummy Data!\n"
     ]
    }
   ],
   "source": [
    "# get the File Name\n",
    "n_most_recent_file = 1 # define if you want the most recent file (1), second most recent (2), ...\n",
    "most_recent_file = get_most_recent_file(input_path, n_most_recent_file)\n",
    "print(f\"{n_most_recent_file}. most recent file:\\n\\n{most_recent_file}\")\n",
    "\n",
    "# import the file\n",
    "dummy_data = pd.read_csv(most_recent_file, low_memory = False)\n",
    "print(\"Imported Dummy Data!\")"
   ]
  },
  {
   "cell_type": "markdown",
   "id": "62925278",
   "metadata": {},
   "source": [
    "Prepare Data"
   ]
  },
  {
   "cell_type": "code",
   "execution_count": 4,
   "id": "6f15ae15",
   "metadata": {},
   "outputs": [],
   "source": [
    "# extract URLS and Date Scraped\n",
    "urls = dummy_data[\"URL\"]\n",
    "dates_scraped = dummy_data[\"Date_scraped\"]\n",
    "\n",
    "# get model data without Url and date scraped\n",
    "model_data = dummy_data.drop(columns = [\"URL\", \"Date_scraped\"]) # model_data (pd.DataFrame): DataFrame containing the data to be used for training and testing."
   ]
  },
  {
   "cell_type": "code",
   "execution_count": null,
   "id": "7e5f3fc1",
   "metadata": {},
   "outputs": [],
   "source": [
    "print(\"\")\n",
    "print(\"######################### 1. Finished Importing Dummied Data #########################\")\n",
    "print(\"\")\n",
    "print(\"\")"
   ]
  },
  {
   "cell_type": "markdown",
   "id": "5be0eee6",
   "metadata": {},
   "source": [
    "# Single Model Creation"
   ]
  },
  {
   "cell_type": "code",
   "execution_count": null,
   "id": "420db495",
   "metadata": {},
   "outputs": [],
   "source": [
    "print(\"######################### 2. Creating XGB Model #########################\")"
   ]
  },
  {
   "cell_type": "markdown",
   "id": "f1f451b6",
   "metadata": {},
   "source": [
    "Set Parameters"
   ]
  },
  {
   "cell_type": "code",
   "execution_count": 5,
   "id": "7b4f810c",
   "metadata": {},
   "outputs": [],
   "source": [
    "n_estimators = 1000 # n_estimators (int): Number of boosting rounds. Default is 1000.\n",
    "max_depth = 9 # max_depth (int): Maximum depth of a tree. Default is 9. (Controls the maximum depth of each tree, deeper trees can model more complex patterns but also increase the risk of overfitting)\n",
    "learning_rate = 0.1 # learning_rate (float): Step size shrinkage used to prevent overfitting. Default is 0.1. (Also known as eta, this parameter scales the contribution of each tree, smaller values make the model more robust to overfitting but require more trees)\n",
    "early_stopping_rounds = 10 # early_stopping_rounds (int): Activates early stopping. Validation error needs to decrease at least every <early_stopping_rounds> round(s) to continue training. Default is 10. (If the validation error does not improve for a given number of rounds, training is stopped early to prevent overfitting)\n",
    "data_frac = 1 # data_frac (float): Fraction of data to be used for training and testing. Default is 1. (This parameter allows you to use a subset of your data for training/testing, useful for quick experiments)"
   ]
  },
  {
   "cell_type": "markdown",
   "id": "90ea94d1",
   "metadata": {},
   "source": [
    "Create Models"
   ]
  },
  {
   "cell_type": "code",
   "execution_count": 10,
   "id": "63005382",
   "metadata": {},
   "outputs": [],
   "source": [
    "single_model, r2, rmse, y_test, y_pred = create_xgb_model(model_data = model_data,\n",
    "                                   n_estimators = n_estimators,\n",
    "                                   max_depth = max_depth,\n",
    "                                   learning_rate = learning_rate,\n",
    "                                   early_stopping_rounds = early_stopping_rounds,\n",
    "                                   data_frac = data_frac)"
   ]
  },
  {
   "cell_type": "markdown",
   "id": "2cf5673c",
   "metadata": {},
   "source": [
    "Get Overview"
   ]
  },
  {
   "cell_type": "code",
   "execution_count": 7,
   "id": "2ba19d3e",
   "metadata": {},
   "outputs": [
    {
     "name": "stdout",
     "output_type": "stream",
     "text": [
      "R-squared: 0.9661815253905058, RMSE: 4938.983994716927\n"
     ]
    }
   ],
   "source": [
    "print(\"\")\n",
    "print(\"Model Results:\")\n",
    "print(f\"R-squared: {r2}, RMSE: {rmse}\")"
   ]
  },
  {
   "cell_type": "markdown",
   "id": "687cbece",
   "metadata": {},
   "source": [
    "Calculate Average Procentual Error"
   ]
  },
  {
   "cell_type": "code",
   "execution_count": 13,
   "id": "2e0b4045",
   "metadata": {},
   "outputs": [
    {
     "data": {
      "text/plain": [
       "0.1231206692388009"
      ]
     },
     "execution_count": 13,
     "metadata": {},
     "output_type": "execute_result"
    }
   ],
   "source": [
    "print(f\"Average Procentual Prediction Error: {np.mean(abs(y_test-y_pred)/y_test)}\")"
   ]
  },
  {
   "cell_type": "code",
   "execution_count": null,
   "id": "2bb200b2",
   "metadata": {},
   "outputs": [],
   "source": [
    "print(\"######################### 2. Finished Creating XGB Model #########################\")\n",
    "print(\"\")\n",
    "print(\"\")"
   ]
  },
  {
   "cell_type": "markdown",
   "id": "c1d49848",
   "metadata": {},
   "source": [
    "# Save Final Model"
   ]
  },
  {
   "cell_type": "code",
   "execution_count": null,
   "id": "7653181d",
   "metadata": {},
   "outputs": [],
   "source": [
    "print(\"######################### 2. Saving XGB Model #########################\")"
   ]
  },
  {
   "cell_type": "code",
   "execution_count": 13,
   "id": "af28d504",
   "metadata": {},
   "outputs": [],
   "source": [
    "save_model = True\n",
    "\n",
    "if save_model:\n",
    "    \n",
    "    now = datetime.now()\n",
    "    \n",
    "    # Format the datetime into the desired string format\n",
    "    formatted_time = now.strftime(\"%Y_%m_%d %H-%M\")\n",
    "    output_file = f\"Models/xgb_model_{formatted_time}.joblib\"\n",
    "    dump(single_model, output_file)"
   ]
  },
  {
   "cell_type": "code",
   "execution_count": null,
   "id": "d64162d1",
   "metadata": {},
   "outputs": [],
   "source": [
    "print(\"\")\n",
    "print(\"######################### 2. Finished Saving XGB Model #########################\")\n",
    "print(\"\")\n",
    "print(\"\")"
   ]
  },
  {
   "cell_type": "markdown",
   "id": "d10a1159",
   "metadata": {},
   "source": [
    "# Clear Work Space"
   ]
  },
  {
   "cell_type": "markdown",
   "id": "61bd81db",
   "metadata": {},
   "source": [
    "Automatically Clear Workspace at the end of the script to ensure that no temporary variables are kept when this script is run over the Major Pipeline Terminal"
   ]
  },
  {
   "cell_type": "code",
   "execution_count": null,
   "id": "3b1f891f",
   "metadata": {},
   "outputs": [],
   "source": [
    "clear_workspace = True\n",
    "if clear_workspace:\n",
    "    %reset -f"
   ]
  }
 ],
 "metadata": {
  "kernelspec": {
   "display_name": "Python 3 (ipykernel)",
   "language": "python",
   "name": "python3"
  },
  "language_info": {
   "codemirror_mode": {
    "name": "ipython",
    "version": 3
   },
   "file_extension": ".py",
   "mimetype": "text/x-python",
   "name": "python",
   "nbconvert_exporter": "python",
   "pygments_lexer": "ipython3",
   "version": "3.9.12"
  },
  "toc": {
   "base_numbering": 1,
   "nav_menu": {},
   "number_sections": true,
   "sideBar": false,
   "skip_h1_title": false,
   "title_cell": "Table of Contents",
   "title_sidebar": "Contents",
   "toc_cell": false,
   "toc_position": {},
   "toc_section_display": true,
   "toc_window_display": false
  },
  "varInspector": {
   "cols": {
    "lenName": 16,
    "lenType": 16,
    "lenVar": 40
   },
   "kernels_config": {
    "python": {
     "delete_cmd_postfix": "",
     "delete_cmd_prefix": "del ",
     "library": "var_list.py",
     "varRefreshCmd": "print(var_dic_list())"
    },
    "r": {
     "delete_cmd_postfix": ") ",
     "delete_cmd_prefix": "rm(",
     "library": "var_list.r",
     "varRefreshCmd": "cat(var_dic_list()) "
    }
   },
   "types_to_exclude": [
    "module",
    "function",
    "builtin_function_or_method",
    "instance",
    "_Feature"
   ],
   "window_display": false
  }
 },
 "nbformat": 4,
 "nbformat_minor": 5
}
