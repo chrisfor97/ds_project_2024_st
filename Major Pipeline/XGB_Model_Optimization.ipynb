{
 "cells": [
  {
   "cell_type": "code",
   "execution_count": 8,
   "id": "281018ba",
   "metadata": {},
   "outputs": [],
   "source": [
    "#load the packages\n",
    "import numpy as np\n",
    "import pandas as pd\n",
    "from scipy.sparse import csr_matrix\n",
    "import random\n",
    "\n",
    "from sklearn.model_selection import train_test_split\n",
    "from sklearn.model_selection import GridSearchCV\n",
    "from sklearn.metrics import mean_squared_error, r2_score\n",
    "from sklearn.ensemble import GradientBoostingRegressor #Gradient Boosting regressor\n",
    "from sklearn.feature_selection import VarianceThreshold\n",
    "import xgboost as xgb\n",
    "import torch\n",
    "import glob\n",
    "import os\n",
    "import joblib\n",
    "from datetime import datetime\n",
    "from joblib import dump\n",
    "\n",
    "%run Functions/Data_Transformation_Functions.ipynb\n",
    "%run Functions/Basic_Functions.ipynb\n",
    "%run Functions/XGB_Functions.ipynb"
   ]
  },
  {
   "cell_type": "markdown",
   "id": "6de905a0",
   "metadata": {},
   "source": [
    "# Import and Prepare Data"
   ]
  },
  {
   "cell_type": "markdown",
   "id": "ca2e0ddc",
   "metadata": {},
   "source": [
    "Import Data"
   ]
  },
  {
   "cell_type": "code",
   "execution_count": 2,
   "id": "3b171bdd",
   "metadata": {},
   "outputs": [],
   "source": [
    "# get the path of the input data\n",
    "input_path = \"Data\\\\Transformed Data\\\\Dummy Transformed\\\\\""
   ]
  },
  {
   "cell_type": "code",
   "execution_count": 3,
   "id": "9054c38f",
   "metadata": {
    "scrolled": false
   },
   "outputs": [
    {
     "name": "stdout",
     "output_type": "stream",
     "text": [
      "1. most recent file:\n",
      "\n",
      "Data\\Transformed Data\\Dummy Transformed\\data_dummied_2024_07_13 12-23.csv\n",
      "Imported Dummy Data!\n"
     ]
    }
   ],
   "source": [
    "# get the File Name\n",
    "n_most_recent_file = 1 # define if you want the most recent file (1), second most recent (2), ...\n",
    "most_recent_file = get_most_recent_file(input_path, n_most_recent_file)\n",
    "print(f\"{n_most_recent_file}. most recent file:\\n\\n{most_recent_file}\")\n",
    "\n",
    "# import the file\n",
    "dummy_data = pd.read_csv(most_recent_file, low_memory = False)\n",
    "print(\"Imported Dummy Data!\")"
   ]
  },
  {
   "cell_type": "markdown",
   "id": "62925278",
   "metadata": {},
   "source": [
    "Prepare Data"
   ]
  },
  {
   "cell_type": "code",
   "execution_count": 4,
   "id": "6f15ae15",
   "metadata": {},
   "outputs": [],
   "source": [
    "# extract URLS and Date Scraped\n",
    "urls = dummy_data[\"URL\"]\n",
    "dates_scraped = dummy_data[\"Date_scraped\"]\n",
    "\n",
    "# get model data without Url and date scraped\n",
    "model_data = dummy_data.drop(columns = [\"URL\", \"Date_scraped\"])"
   ]
  },
  {
   "cell_type": "markdown",
   "id": "12240346",
   "metadata": {},
   "source": [
    "# Multi Model Creation"
   ]
  },
  {
   "cell_type": "markdown",
   "id": "42446bb9",
   "metadata": {},
   "source": [
    "Set Parameters"
   ]
  },
  {
   "cell_type": "code",
   "execution_count": 5,
   "id": "a4adeb19",
   "metadata": {},
   "outputs": [],
   "source": [
    "n_estimators_list = [10000, 20000]\n",
    "max_depths_list = [9]\n",
    "lr_list = [0.01]\n",
    "es_rounds_list = [10]\n",
    "data_frac = 0.2"
   ]
  },
  {
   "cell_type": "markdown",
   "id": "5ae6cc47",
   "metadata": {},
   "source": [
    "Create Models"
   ]
  },
  {
   "cell_type": "code",
   "execution_count": 9,
   "id": "65f62307",
   "metadata": {},
   "outputs": [],
   "source": [
    "models, overview_df = run_xgb_optimizer(model_data, n_estimators_list, max_depths_list, lr_list, es_rounds_list, data_frac)"
   ]
  },
  {
   "cell_type": "markdown",
   "id": "593ebc0f",
   "metadata": {},
   "source": [
    "Get Overview"
   ]
  },
  {
   "cell_type": "code",
   "execution_count": null,
   "id": "df805f4f",
   "metadata": {},
   "outputs": [],
   "source": [
    "overview_df"
   ]
  },
  {
   "cell_type": "markdown",
   "id": "5be0eee6",
   "metadata": {},
   "source": [
    "# Single Model Creation"
   ]
  },
  {
   "cell_type": "markdown",
   "id": "f1f451b6",
   "metadata": {},
   "source": [
    "Set Parameters"
   ]
  },
  {
   "cell_type": "code",
   "execution_count": 5,
   "id": "7b4f810c",
   "metadata": {},
   "outputs": [],
   "source": [
    "n_estimators = 2000\n",
    "max_depth = 9\n",
    "learning_rate = 0.1\n",
    "early_stopping_rounds = 10\n",
    "data_frac = 1"
   ]
  },
  {
   "cell_type": "markdown",
   "id": "90ea94d1",
   "metadata": {},
   "source": [
    "Create Models"
   ]
  },
  {
   "cell_type": "code",
   "execution_count": 10,
   "id": "63005382",
   "metadata": {},
   "outputs": [],
   "source": [
    "single_model, r2, rmse, y_test, y_pred = create_xgb_model(model_data = model_data,\n",
    "                                   n_estimators = n_estimators,\n",
    "                                   max_depth = max_depth,\n",
    "                                   learning_rate = learning_rate,\n",
    "                                   early_stopping_rounds = early_stopping_rounds,\n",
    "                                   data_frac = data_frac)"
   ]
  },
  {
   "cell_type": "markdown",
   "id": "2cf5673c",
   "metadata": {},
   "source": [
    "Get Overview"
   ]
  },
  {
   "cell_type": "code",
   "execution_count": 7,
   "id": "2ba19d3e",
   "metadata": {},
   "outputs": [
    {
     "name": "stdout",
     "output_type": "stream",
     "text": [
      "R-squared: 0.9661815253905058, RMSE: 4938.983994716927\n"
     ]
    }
   ],
   "source": [
    "print(f\"R-squared: {r2}, RMSE: {rmse}\")"
   ]
  },
  {
   "cell_type": "markdown",
   "id": "687cbece",
   "metadata": {},
   "source": [
    "Calculate Average Procentual Error"
   ]
  },
  {
   "cell_type": "code",
   "execution_count": 13,
   "id": "2e0b4045",
   "metadata": {},
   "outputs": [
    {
     "data": {
      "text/plain": [
       "0.1231206692388009"
      ]
     },
     "execution_count": 13,
     "metadata": {},
     "output_type": "execute_result"
    }
   ],
   "source": [
    "np.mean(abs(y_test-y_pred)/y_test)"
   ]
  },
  {
   "cell_type": "markdown",
   "id": "c1d49848",
   "metadata": {},
   "source": [
    "# Save Final Model"
   ]
  },
  {
   "cell_type": "code",
   "execution_count": 13,
   "id": "af28d504",
   "metadata": {},
   "outputs": [],
   "source": [
    "save_model = True\n",
    "\n",
    "if save_model:\n",
    "    \n",
    "    now = datetime.now()\n",
    "    \n",
    "    # Format the datetime into the desired string format\n",
    "    formatted_time = now.strftime(\"%Y_%m_%d %H-%M\")\n",
    "    output_file = f\"Models/xgb_model_{formatted_time}.joblib\"\n",
    "    dump(single_model, output_file)"
   ]
  },
  {
   "cell_type": "code",
   "execution_count": null,
   "id": "9b0dbb34",
   "metadata": {},
   "outputs": [],
   "source": []
  }
 ],
 "metadata": {
  "kernelspec": {
   "display_name": "Python 3 (ipykernel)",
   "language": "python",
   "name": "python3"
  },
  "language_info": {
   "codemirror_mode": {
    "name": "ipython",
    "version": 3
   },
   "file_extension": ".py",
   "mimetype": "text/x-python",
   "name": "python",
   "nbconvert_exporter": "python",
   "pygments_lexer": "ipython3",
   "version": "3.9.12"
  },
  "toc": {
   "base_numbering": 1,
   "nav_menu": {},
   "number_sections": true,
   "sideBar": false,
   "skip_h1_title": false,
   "title_cell": "Table of Contents",
   "title_sidebar": "Contents",
   "toc_cell": false,
   "toc_position": {},
   "toc_section_display": true,
   "toc_window_display": false
  },
  "varInspector": {
   "cols": {
    "lenName": 16,
    "lenType": 16,
    "lenVar": 40
   },
   "kernels_config": {
    "python": {
     "delete_cmd_postfix": "",
     "delete_cmd_prefix": "del ",
     "library": "var_list.py",
     "varRefreshCmd": "print(var_dic_list())"
    },
    "r": {
     "delete_cmd_postfix": ") ",
     "delete_cmd_prefix": "rm(",
     "library": "var_list.r",
     "varRefreshCmd": "cat(var_dic_list()) "
    }
   },
   "types_to_exclude": [
    "module",
    "function",
    "builtin_function_or_method",
    "instance",
    "_Feature"
   ],
   "window_display": false
  }
 },
 "nbformat": 4,
 "nbformat_minor": 5
}
