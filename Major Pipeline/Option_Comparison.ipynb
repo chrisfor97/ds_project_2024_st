{
 "cells": [
  {
   "cell_type": "code",
   "execution_count": 1,
   "id": "e4c95a58",
   "metadata": {},
   "outputs": [],
   "source": [
    "import numpy as np\n",
    "import pandas as pd\n",
    "import requests\n",
    "import gc\n",
    "import contextlib\n",
    "import joblib\n",
    "from bs4 import BeautifulSoup\n",
    "import re\n",
    "from datetime import datetime\n",
    "import time\n",
    "import glob\n",
    "import os\n",
    "from collections import Counter\n",
    "import random\n",
    "\n",
    "%run Functions/Data_Cleaning_Functions.ipynb\n",
    "%run Functions/Basic_Functions.ipynb\n",
    "%run Functions/Data_Transformation_Functions.ipynb\n",
    "%run Functions/Option_Comparison_Functions.ipynb"
   ]
  },
  {
   "cell_type": "code",
   "execution_count": 2,
   "id": "041a0717",
   "metadata": {},
   "outputs": [],
   "source": [
    "# Set the maximum number of displayed rows to 1000\n",
    "pd.set_option('display.max_rows', 1000)\n",
    "pd.set_option('display.max_columns', 1000)"
   ]
  },
  {
   "cell_type": "markdown",
   "id": "9892cc0f",
   "metadata": {},
   "source": [
    "Further usage instructions can be found in the readme file."
   ]
  },
  {
   "cell_type": "markdown",
   "id": "a6515475",
   "metadata": {},
   "source": [
    "# Import XGB Model"
   ]
  },
  {
   "cell_type": "code",
   "execution_count": 7,
   "id": "573a22dd",
   "metadata": {},
   "outputs": [],
   "source": [
    "# set target folder to search the model in\n",
    "target_folder_results = \"Major Pipeline\\\\Models\\\\\"\n",
    "\n",
    "# define if you want the most recent file (1), second most recent (2), ...\n",
    "n_most_recent_file = 1 \n",
    "\n",
    "# get the input path\n",
    "input_path_model = get_data_path(target_folder_results)\n",
    "\n",
    "# load the model\n",
    "most_recent_model_file = get_most_recent_file(input_path_model, n_most_recent_file)\n",
    "xgb_model = joblib.load(most_recent_model_file)\n"
   ]
  },
  {
   "cell_type": "markdown",
   "id": "ff4ebb1a",
   "metadata": {},
   "source": [
    "# Calculate Depreciation"
   ]
  },
  {
   "cell_type": "markdown",
   "id": "851bf96e",
   "metadata": {},
   "source": [
    "Get User Inputs"
   ]
  },
  {
   "cell_type": "code",
   "execution_count": 6,
   "id": "7bbc76c0",
   "metadata": {},
   "outputs": [],
   "source": [
    "# urls (list(of strings): Insert 2 URLs of AutoScout24.de car offers which you want to compare.\n",
    "urls = [\"https://www.autoscout24.de/angebote/mercedes-benz-cla-200-cla-200-sb-amg-line-navi-led-ambiente-vorr-ahk-bc-benzin-schwarz-f3712c7c-8a60-456e-9695-6070b546126a?sort=standard&desc=0&lastSeenGuidPresent=true&cldtidx=1&position=1&search_id=th0lhpxbzz&source_otp=nfm&ap_tier=t50&source=listpage_search-results&order_bucket=0&topspot-algorithm=nfm-default&topspot-dealer-id=20601\",\n",
    "       \"https://www.autoscout24.de/angebote/mercedes-benz-cla-200-cla-200-sb-amg-line-navi-led-ambiente-vorr-ahk-bc-benzin-schwarz-f3712c7c-8a60-456e-9695-6070b546126a?sort=standard&desc=0&lastSeenGuidPresent=true&cldtidx=1&position=1&search_id=th0lhpxbzz&source_otp=nfm&ap_tier=t50&source=listpage_search-results&order_bucket=0&topspot-algorithm=nfm-default&topspot-dealer-id=20601\"]"
   ]
  },
  {
   "cell_type": "code",
   "execution_count": 8,
   "id": "0ab43fd4",
   "metadata": {},
   "outputs": [],
   "source": [
    "planned_km_per_year = 1000000 # planned_km_per_year (int): How many kilometers you plan to drive with the cars per year.\n",
    "planned_years = 100 # planned_years (int): How many years you plan to drive with the car."
   ]
  },
  {
   "cell_type": "code",
   "execution_count": 9,
   "id": "376cd65a",
   "metadata": {},
   "outputs": [],
   "source": [
    "scraped_data_path = \"Data/Scraped Data/scraped_data.csv\" # relative path to scraped data\n",
    "helper_data_path_cleaned = \"Data/Helper Data/Cleaned Data/\" # relative path to helper data cleaned\n",
    "helper_data_path_dummied = \"Data/Helper Data/Dummy Transformed/\" # relative path to helper data dummied\n",
    "output_path = \"Data/Depreciation Data/dummied_new_observations.csv\" # relative path to where to output the calculation results"
   ]
  },
  {
   "cell_type": "markdown",
   "id": "a1c933f4",
   "metadata": {},
   "source": [
    "Calculate"
   ]
  },
  {
   "cell_type": "code",
   "execution_count": 10,
   "id": "e7441a50",
   "metadata": {},
   "outputs": [
    {
     "name": "stdout",
     "output_type": "stream",
     "text": [
      "Dropped 16 entries due to shifted columns!\n",
      "Dropping 0 columns:\n",
      "[]\n",
      "Dropped 36 columns:\n",
      "['€ 0,-', 'Pkw Zulassung', 'Ladevolumen', 'zul. Zuggewicht', 'Achsen', 'Nutzlast', 'Radstand', 'Laderaumhöhe', 'Laderaumbreite', 'Laderaumlänge', 'zul. Gesamtgewicht', 'Sonderzahlung', 'Verfügbarkeit', 'Batteriebesitz', 'Letzter Zahnriemenwechsel', 'Verfügbar ab', 'Fahrzeugstand', 'Energieeffizienzklasse', 'CO₂-Effizienz', 'Bearbeitungsgebühren', 'Bruttodarlehensbetrag', 'Sollzins geb. p.a.', 'Letzte Inspektion', 'Baujahr', 'CO₂-Klasse', 'Schlüsselnummer', 'Gänge', 'Angebotsnummer', 'Farbe laut Hersteller', 'Farbe der Innenausstattung', 'Andere Energieträger', 'Fahrzeugzustand', 'Ladezeit von 10% bis 80%', 'Fahrleistung p.a.', 'Zulassungskosten', 'HU']\n",
      "Current Feature: Sicherheit\n",
      "Current Feature: Innenausstattung\n",
      "Current Feature: Unterhaltung/Media\n",
      "Current Feature: Extras\n",
      "Current Feature: Komfort\n",
      "Done!\n",
      "Dropped 5 columns:\n",
      "['Sicherheit', 'Innenausstattung', 'Unterhaltung/Media', 'Extras', 'Komfort']\n",
      "Dropped 2 columns:\n",
      "['time', 'date']\n",
      "Dropped 2 columns:\n",
      "['Erstzulassung', 'Erstzulassung_Monat']\n",
      "Making Price Predictions for Original Data...\n"
     ]
    }
   ],
   "source": [
    "depreciation_df = get_depreciation_in_one(urls = urls,\n",
    "                                          scraped_data_path = scraped_data_path,\n",
    "                                          helper_data_path_cleaned = helper_data_path_cleaned,\n",
    "                                          helper_data_path_dummied = helper_data_path_dummied,\n",
    "                                          output_path = output_path,\n",
    "                                          model = xgb_model,\n",
    "                                          planned_km_per_year = planned_km_per_year,\n",
    "                                          planned_years = planned_years)"
   ]
  },
  {
   "cell_type": "code",
   "execution_count": 11,
   "id": "74ee97e8",
   "metadata": {},
   "outputs": [
    {
     "data": {
      "text/html": [
       "<div>\n",
       "<style scoped>\n",
       "    .dataframe tbody tr th:only-of-type {\n",
       "        vertical-align: middle;\n",
       "    }\n",
       "\n",
       "    .dataframe tbody tr th {\n",
       "        vertical-align: top;\n",
       "    }\n",
       "\n",
       "    .dataframe thead th {\n",
       "        text-align: right;\n",
       "    }\n",
       "</style>\n",
       "<table border=\"1\" class=\"dataframe\">\n",
       "  <thead>\n",
       "    <tr style=\"text-align: right;\">\n",
       "      <th></th>\n",
       "      <th>Manufacturer</th>\n",
       "      <th>Model</th>\n",
       "      <th>Mileage</th>\n",
       "      <th>Power</th>\n",
       "      <th>Initial Approval</th>\n",
       "      <th>Price</th>\n",
       "      <th>Mileage Depreciation</th>\n",
       "      <th>Age Depreciation</th>\n",
       "      <th>Total Depreciation</th>\n",
       "      <th>Resulting Car Value</th>\n",
       "    </tr>\n",
       "  </thead>\n",
       "  <tbody>\n",
       "    <tr>\n",
       "      <th>0</th>\n",
       "      <td>Mercedes-Benz</td>\n",
       "      <td>CLA 200</td>\n",
       "      <td>12270.00km</td>\n",
       "      <td>120.00HP</td>\n",
       "      <td>2023</td>\n",
       "      <td>28850.00€</td>\n",
       "      <td>-9204.47€</td>\n",
       "      <td>-6656.92€</td>\n",
       "      <td>-15861.40€</td>\n",
       "      <td>12988.60€</td>\n",
       "    </tr>\n",
       "    <tr>\n",
       "      <th>1</th>\n",
       "      <td>Mercedes-Benz</td>\n",
       "      <td>CLA 200</td>\n",
       "      <td>12270.00km</td>\n",
       "      <td>120.00HP</td>\n",
       "      <td>2023</td>\n",
       "      <td>28850.00€</td>\n",
       "      <td>-9204.47€</td>\n",
       "      <td>-6656.92€</td>\n",
       "      <td>-15861.40€</td>\n",
       "      <td>12988.60€</td>\n",
       "    </tr>\n",
       "  </tbody>\n",
       "</table>\n",
       "</div>"
      ],
      "text/plain": [
       "    Manufacturer    Model     Mileage     Power  Initial Approval      Price  \\\n",
       "0  Mercedes-Benz  CLA 200  12270.00km  120.00HP              2023  28850.00€   \n",
       "1  Mercedes-Benz  CLA 200  12270.00km  120.00HP              2023  28850.00€   \n",
       "\n",
       "  Mileage Depreciation Age Depreciation Total Depreciation Resulting Car Value  \n",
       "0            -9204.47€        -6656.92€         -15861.40€           12988.60€  \n",
       "1            -9204.47€        -6656.92€         -15861.40€           12988.60€  "
      ]
     },
     "execution_count": 11,
     "metadata": {},
     "output_type": "execute_result"
    }
   ],
   "source": [
    "depreciation_df"
   ]
  }
 ],
 "metadata": {
  "kernelspec": {
   "display_name": "Python 3 (ipykernel)",
   "language": "python",
   "name": "python3"
  },
  "language_info": {
   "codemirror_mode": {
    "name": "ipython",
    "version": 3
   },
   "file_extension": ".py",
   "mimetype": "text/x-python",
   "name": "python",
   "nbconvert_exporter": "python",
   "pygments_lexer": "ipython3",
   "version": "3.9.12"
  },
  "toc": {
   "base_numbering": 1,
   "nav_menu": {},
   "number_sections": true,
   "sideBar": true,
   "skip_h1_title": false,
   "title_cell": "Table of Contents",
   "title_sidebar": "Contents",
   "toc_cell": false,
   "toc_position": {
    "height": "calc(100% - 180px)",
    "left": "10px",
    "top": "150px",
    "width": "426.641px"
   },
   "toc_section_display": true,
   "toc_window_display": true
  },
  "varInspector": {
   "cols": {
    "lenName": 16,
    "lenType": 16,
    "lenVar": 40
   },
   "kernels_config": {
    "python": {
     "delete_cmd_postfix": "",
     "delete_cmd_prefix": "del ",
     "library": "var_list.py",
     "varRefreshCmd": "print(var_dic_list())"
    },
    "r": {
     "delete_cmd_postfix": ") ",
     "delete_cmd_prefix": "rm(",
     "library": "var_list.r",
     "varRefreshCmd": "cat(var_dic_list()) "
    }
   },
   "types_to_exclude": [
    "module",
    "function",
    "builtin_function_or_method",
    "instance",
    "_Feature"
   ],
   "window_display": false
  }
 },
 "nbformat": 4,
 "nbformat_minor": 5
}
