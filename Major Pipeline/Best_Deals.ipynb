{
 "cells": [
  {
   "cell_type": "code",
   "execution_count": 1,
   "id": "73488437",
   "metadata": {},
   "outputs": [],
   "source": [
    "import numpy as np\n",
    "import pandas as pd\n",
    "import glob\n",
    "import os\n",
    "import joblib\n",
    "from datetime import datetime, timedelta\n",
    "import requests\n",
    "from nordvpn_switcher import initialize_VPN, rotate_VPN\n",
    "import time\n",
    "from bs4 import BeautifulSoup\n",
    "import xgboost as xgb\n",
    "\n",
    "%run Functions/Best_Deals_Functions.ipynb\n",
    "%run Functions/Basic_Functions.ipynb"
   ]
  },
  {
   "cell_type": "markdown",
   "id": "53a0cb69",
   "metadata": {},
   "source": [
    "# Preparations"
   ]
  },
  {
   "cell_type": "markdown",
   "id": "7f4d5023",
   "metadata": {},
   "source": [
    "## Load Data"
   ]
  },
  {
   "cell_type": "code",
   "execution_count": 2,
   "id": "034e17f2",
   "metadata": {},
   "outputs": [],
   "source": [
    "# when implementing in APP, this dataframe should be preloaded upon start of APP\n",
    "target_folder = \"Data/Transformed Data/Dummy Transformed\"\n",
    "offer_data_path = get_most_recent_file(target_folder, n_most_recent_file = 1)"
   ]
  },
  {
   "cell_type": "code",
   "execution_count": 3,
   "id": "400723e9",
   "metadata": {},
   "outputs": [],
   "source": [
    "offer_data = pd.read_csv(offer_data_path, low_memory = False)"
   ]
  },
  {
   "cell_type": "markdown",
   "id": "d46e10c5",
   "metadata": {},
   "source": [
    "## Load Model"
   ]
  },
  {
   "cell_type": "code",
   "execution_count": 7,
   "id": "573a22dd",
   "metadata": {},
   "outputs": [],
   "source": [
    "# set target folder to search the model in\n",
    "target_folder_results = \"Major Pipeline\\\\Models\\\\\"\n",
    "\n",
    "# define if you want the most recent file (1), second most recent (2), ...\n",
    "n_most_recent_file = 1 \n",
    "\n",
    "# get the input path\n",
    "input_path_model = get_data_path(target_folder_results)\n",
    "\n",
    "\n",
    "# load the model\n",
    "most_recent_model_file = get_most_recent_file(input_path_model, n_most_recent_file)\n",
    "xgb_model = joblib.load(most_recent_model_file)\n"
   ]
  },
  {
   "cell_type": "code",
   "execution_count": 8,
   "id": "5c08d861",
   "metadata": {},
   "outputs": [],
   "source": [
    "trained_model = xgb_model"
   ]
  },
  {
   "cell_type": "markdown",
   "id": "cba727d3",
   "metadata": {},
   "source": [
    "# Front End Inputs (get from front-end later)"
   ]
  },
  {
   "cell_type": "code",
   "execution_count": 9,
   "id": "b17eeee7",
   "metadata": {},
   "outputs": [],
   "source": [
    "# OBSERVATION SELECTION PARAMETERS\n",
    "manufacturer = \"Mercedes-Benz\" # manufacturer (str):  Choose the brand of the car model youre interested in.\n",
    "car_model = \"180\" # car_model (str): Choose the exact car model youre interested in.\n",
    "max_mileage = 200000 # max_mileage (int): Choose the maximum allowed mileage for the cars youre interested in.\n",
    "initial_approval = 2000 # initial_approval (int): Choose the earliest allowed initial approval for the car youre interested in.\n",
    "n_days = 80 # n_days (int): Maximum of how many days back the considered data has been scraped. Is used to make this function more efficient, and not to respect to old offers from the scraped data, as it is probable that they are not available online anymore.\n",
    "\n",
    "\n",
    "# SCRAPING PARAMETERS\n",
    "change_vpn = True # change_vpn (boolean): Whether the VPN should be initialized and changed or not.\n",
    "area_input = ['random countries europe 8'] # area_input (string):  Usually ['random countries europe 8']. Input parameter for nord_vpn switcher, which declares from which pool of IPs NordVPN can pick one when changing the IP-adress.\n",
    "sleep_time = 0.1 # sleep_time (float): Sleeping time between url requests in seconds.\n",
    "\n",
    "# BEST OFFER PARAMETERS\n",
    "n_best_offers = 10 # n_best_offers (int):  Declare how many best offers should be shown."
   ]
  },
  {
   "cell_type": "markdown",
   "id": "f8c7861a",
   "metadata": {},
   "source": [
    "# Get Best Offers"
   ]
  },
  {
   "cell_type": "code",
   "execution_count": 10,
   "id": "82161d72",
   "metadata": {
    "scrolled": true
   },
   "outputs": [
    {
     "name": "stdout",
     "output_type": "stream",
     "text": [
      "Making Price Predictions...\n",
      "Predictions done! Found 20 observations for Mercedes-Benz 180 and max mileage of 200000km and Initial Approval >= 2000!\n",
      "Checking Availability and Creating Result DataFrame!\n",
      "Best Offers DataFrame created with 10 Offers!\n"
     ]
    }
   ],
   "source": [
    "best_offers_df = get_best_offers_in_one_efficiently_xgb(df = offer_data,\n",
    "                                        manufacturer = manufacturer,\n",
    "                                        car_model = car_model,\n",
    "                                        max_mileage = max_mileage,\n",
    "                                        initial_approval = initial_approval,\n",
    "                                        n_days = n_days,\n",
    "                                        sleep_time = sleep_time,\n",
    "                                        model = trained_model,\n",
    "                                        n_best_offers = n_best_offers)"
   ]
  },
  {
   "cell_type": "markdown",
   "id": "dabaf84b",
   "metadata": {},
   "source": [
    "# Check Results"
   ]
  },
  {
   "cell_type": "code",
   "execution_count": 13,
   "id": "2f1b776a",
   "metadata": {
    "scrolled": true
   },
   "outputs": [
    {
     "data": {
      "text/html": [
       "<div>\n",
       "<style scoped>\n",
       "    .dataframe tbody tr th:only-of-type {\n",
       "        vertical-align: middle;\n",
       "    }\n",
       "\n",
       "    .dataframe tbody tr th {\n",
       "        vertical-align: top;\n",
       "    }\n",
       "\n",
       "    .dataframe thead th {\n",
       "        text-align: right;\n",
       "    }\n",
       "</style>\n",
       "<table border=\"1\" class=\"dataframe\">\n",
       "  <thead>\n",
       "    <tr style=\"text-align: right;\">\n",
       "      <th></th>\n",
       "      <th>Image URL</th>\n",
       "      <th>Manufacturer</th>\n",
       "      <th>Model</th>\n",
       "      <th>Offer Price</th>\n",
       "      <th>Fair Price</th>\n",
       "      <th>Savings</th>\n",
       "      <th>URL</th>\n",
       "    </tr>\n",
       "  </thead>\n",
       "  <tbody>\n",
       "    <tr>\n",
       "      <th>0</th>\n",
       "      <td>https://prod.pictures.autoscout24.net/listing-...</td>\n",
       "      <td>Mercedes-Benz</td>\n",
       "      <td>180</td>\n",
       "      <td>12000.00€</td>\n",
       "      <td>19832.15€</td>\n",
       "      <td>7832.15€</td>\n",
       "      <td>https://www.autoscout24.de/angebote/mercedes-b...</td>\n",
       "    </tr>\n",
       "    <tr>\n",
       "      <th>1</th>\n",
       "      <td>https://prod.pictures.autoscout24.net/listing-...</td>\n",
       "      <td>Mercedes-Benz</td>\n",
       "      <td>180</td>\n",
       "      <td>10000.00€</td>\n",
       "      <td>11931.45€</td>\n",
       "      <td>1931.45€</td>\n",
       "      <td>https://www.autoscout24.de/angebote/mercedes-b...</td>\n",
       "    </tr>\n",
       "    <tr>\n",
       "      <th>2</th>\n",
       "      <td>https://prod.pictures.autoscout24.net/listing-...</td>\n",
       "      <td>Mercedes-Benz</td>\n",
       "      <td>180</td>\n",
       "      <td>11000.00€</td>\n",
       "      <td>12020.97€</td>\n",
       "      <td>1020.97€</td>\n",
       "      <td>https://www.autoscout24.de/angebote/mercedes-b...</td>\n",
       "    </tr>\n",
       "    <tr>\n",
       "      <th>3</th>\n",
       "      <td>https://prod.pictures.autoscout24.net/listing-...</td>\n",
       "      <td>Mercedes-Benz</td>\n",
       "      <td>180</td>\n",
       "      <td>11500.00€</td>\n",
       "      <td>12211.20€</td>\n",
       "      <td>711.20€</td>\n",
       "      <td>https://www.autoscout24.de/angebote/mercedes-b...</td>\n",
       "    </tr>\n",
       "    <tr>\n",
       "      <th>4</th>\n",
       "      <td>https://prod.pictures.autoscout24.net/listing-...</td>\n",
       "      <td>Mercedes-Benz</td>\n",
       "      <td>180</td>\n",
       "      <td>9700.00€</td>\n",
       "      <td>10316.38€</td>\n",
       "      <td>616.38€</td>\n",
       "      <td>https://www.autoscout24.de/angebote/mercedes-b...</td>\n",
       "    </tr>\n",
       "    <tr>\n",
       "      <th>5</th>\n",
       "      <td>https://prod.pictures.autoscout24.net/listing-...</td>\n",
       "      <td>Mercedes-Benz</td>\n",
       "      <td>180</td>\n",
       "      <td>17499.00€</td>\n",
       "      <td>17740.64€</td>\n",
       "      <td>241.64€</td>\n",
       "      <td>https://www.autoscout24.de/angebote/mercedes-b...</td>\n",
       "    </tr>\n",
       "    <tr>\n",
       "      <th>6</th>\n",
       "      <td>https://prod.pictures.autoscout24.net/listing-...</td>\n",
       "      <td>Mercedes-Benz</td>\n",
       "      <td>180</td>\n",
       "      <td>27800.00€</td>\n",
       "      <td>27735.08€</td>\n",
       "      <td>-64.91€</td>\n",
       "      <td>https://www.autoscout24.de/angebote/mercedes-b...</td>\n",
       "    </tr>\n",
       "    <tr>\n",
       "      <th>7</th>\n",
       "      <td>https://prod.pictures.autoscout24.net/listing-...</td>\n",
       "      <td>Mercedes-Benz</td>\n",
       "      <td>180</td>\n",
       "      <td>14500.00€</td>\n",
       "      <td>14237.57€</td>\n",
       "      <td>-262.43€</td>\n",
       "      <td>https://www.autoscout24.de/angebote/mercedes-b...</td>\n",
       "    </tr>\n",
       "    <tr>\n",
       "      <th>8</th>\n",
       "      <td>https://prod.pictures.autoscout24.net/listing-...</td>\n",
       "      <td>Mercedes-Benz</td>\n",
       "      <td>180</td>\n",
       "      <td>13500.00€</td>\n",
       "      <td>12999.51€</td>\n",
       "      <td>-500.49€</td>\n",
       "      <td>https://www.autoscout24.de/angebote/mercedes-b...</td>\n",
       "    </tr>\n",
       "    <tr>\n",
       "      <th>9</th>\n",
       "      <td>https://prod.pictures.autoscout24.net/listing-...</td>\n",
       "      <td>Mercedes-Benz</td>\n",
       "      <td>180</td>\n",
       "      <td>8000.00€</td>\n",
       "      <td>6877.02€</td>\n",
       "      <td>-1122.98€</td>\n",
       "      <td>https://www.autoscout24.de/angebote/mercedes-b...</td>\n",
       "    </tr>\n",
       "  </tbody>\n",
       "</table>\n",
       "</div>"
      ],
      "text/plain": [
       "                                           Image URL   Manufacturer Model  \\\n",
       "0  https://prod.pictures.autoscout24.net/listing-...  Mercedes-Benz   180   \n",
       "1  https://prod.pictures.autoscout24.net/listing-...  Mercedes-Benz   180   \n",
       "2  https://prod.pictures.autoscout24.net/listing-...  Mercedes-Benz   180   \n",
       "3  https://prod.pictures.autoscout24.net/listing-...  Mercedes-Benz   180   \n",
       "4  https://prod.pictures.autoscout24.net/listing-...  Mercedes-Benz   180   \n",
       "5  https://prod.pictures.autoscout24.net/listing-...  Mercedes-Benz   180   \n",
       "6  https://prod.pictures.autoscout24.net/listing-...  Mercedes-Benz   180   \n",
       "7  https://prod.pictures.autoscout24.net/listing-...  Mercedes-Benz   180   \n",
       "8  https://prod.pictures.autoscout24.net/listing-...  Mercedes-Benz   180   \n",
       "9  https://prod.pictures.autoscout24.net/listing-...  Mercedes-Benz   180   \n",
       "\n",
       "  Offer Price Fair Price    Savings  \\\n",
       "0   12000.00€  19832.15€   7832.15€   \n",
       "1   10000.00€  11931.45€   1931.45€   \n",
       "2   11000.00€  12020.97€   1020.97€   \n",
       "3   11500.00€  12211.20€    711.20€   \n",
       "4    9700.00€  10316.38€    616.38€   \n",
       "5   17499.00€  17740.64€    241.64€   \n",
       "6   27800.00€  27735.08€    -64.91€   \n",
       "7   14500.00€  14237.57€   -262.43€   \n",
       "8   13500.00€  12999.51€   -500.49€   \n",
       "9    8000.00€   6877.02€  -1122.98€   \n",
       "\n",
       "                                                 URL  \n",
       "0  https://www.autoscout24.de/angebote/mercedes-b...  \n",
       "1  https://www.autoscout24.de/angebote/mercedes-b...  \n",
       "2  https://www.autoscout24.de/angebote/mercedes-b...  \n",
       "3  https://www.autoscout24.de/angebote/mercedes-b...  \n",
       "4  https://www.autoscout24.de/angebote/mercedes-b...  \n",
       "5  https://www.autoscout24.de/angebote/mercedes-b...  \n",
       "6  https://www.autoscout24.de/angebote/mercedes-b...  \n",
       "7  https://www.autoscout24.de/angebote/mercedes-b...  \n",
       "8  https://www.autoscout24.de/angebote/mercedes-b...  \n",
       "9  https://www.autoscout24.de/angebote/mercedes-b...  "
      ]
     },
     "execution_count": 13,
     "metadata": {},
     "output_type": "execute_result"
    }
   ],
   "source": [
    "best_offers_df[[\"Image URL\", \"Manufacturer\", \"Model\", \"Offer Price\", \"Fair Price\", \"Savings\", \"URL\"]]"
   ]
  }
 ],
 "metadata": {
  "kernelspec": {
   "display_name": "Python 3 (ipykernel)",
   "language": "python",
   "name": "python3"
  },
  "language_info": {
   "codemirror_mode": {
    "name": "ipython",
    "version": 3
   },
   "file_extension": ".py",
   "mimetype": "text/x-python",
   "name": "python",
   "nbconvert_exporter": "python",
   "pygments_lexer": "ipython3",
   "version": "3.9.12"
  },
  "toc": {
   "base_numbering": 1,
   "nav_menu": {},
   "number_sections": true,
   "sideBar": true,
   "skip_h1_title": false,
   "title_cell": "Table of Contents",
   "title_sidebar": "Contents",
   "toc_cell": false,
   "toc_position": {
    "height": "calc(100% - 180px)",
    "left": "10px",
    "top": "150px",
    "width": "335.851px"
   },
   "toc_section_display": true,
   "toc_window_display": true
  },
  "varInspector": {
   "cols": {
    "lenName": 16,
    "lenType": 16,
    "lenVar": 40
   },
   "kernels_config": {
    "python": {
     "delete_cmd_postfix": "",
     "delete_cmd_prefix": "del ",
     "library": "var_list.py",
     "varRefreshCmd": "print(var_dic_list())"
    },
    "r": {
     "delete_cmd_postfix": ") ",
     "delete_cmd_prefix": "rm(",
     "library": "var_list.r",
     "varRefreshCmd": "cat(var_dic_list()) "
    }
   },
   "types_to_exclude": [
    "module",
    "function",
    "builtin_function_or_method",
    "instance",
    "_Feature"
   ],
   "window_display": false
  }
 },
 "nbformat": 4,
 "nbformat_minor": 5
}
