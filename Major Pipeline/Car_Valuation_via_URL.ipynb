{
 "cells": [
  {
   "cell_type": "markdown",
   "id": "ff0b552e",
   "metadata": {},
   "source": [
    "# Import Packages"
   ]
  },
  {
   "cell_type": "code",
   "execution_count": 4,
   "id": "118f0487",
   "metadata": {},
   "outputs": [],
   "source": [
    "import numpy as np\n",
    "import pandas as pd\n",
    "import requests\n",
    "import gc\n",
    "import contextlib\n",
    "import joblib\n",
    "from bs4 import BeautifulSoup\n",
    "import re\n",
    "from datetime import datetime\n",
    "import time\n",
    "import glob\n",
    "import os\n",
    "from collections import Counter\n",
    "\n",
    "%run Functions/Car_Valuation_Via_URL_Functions.ipynb\n",
    "%run Functions/Data_Cleaning_Functions.ipynb\n",
    "%run Functions/Basic_Functions.ipynb\n",
    "%run Functions/Data_Transformation_Functions.ipynb"
   ]
  },
  {
   "cell_type": "markdown",
   "id": "d9b599b9",
   "metadata": {},
   "source": [
    "# Get Observation from URL, Clean, Dummy and Get Prediction Results"
   ]
  },
  {
   "cell_type": "markdown",
   "id": "97b0ddf8",
   "metadata": {},
   "source": [
    "Go to readme file to get further information."
   ]
  },
  {
   "cell_type": "code",
   "execution_count": 5,
   "id": "c52a4fab",
   "metadata": {},
   "outputs": [],
   "source": [
    "# url (str): AutoScout24.de URL to the car observation that should be examined\n",
    "url = \"https://www.autoscout24.de/angebote/porsche-cayenne-gts-pano-rkue-luftfederung-sport-chrono-benzin-schwarz-801858f7-ec6f-4b1c-92f4-37edabe61ce2?sort=standard&desc=0&lastSeenGuidPresent=true&cldtidx=1&position=1&search_id=7ubltuek27&source_otp=nfm&ap_tier=t50&source=listpage_search-results&order_bucket=0&topspot-algorithm=nfm-default&topspot-dealer-id=35070663\"\n",
    "fixed_procentual_error = 0.13 # fixed_procentual_error (float): procentual average prediction error from the trained XGB model to calculate kind of an confidence interval for the prediction\n",
    "\n",
    "target_folder_model = \"Major Pipeline\\\\Models\\\\\" # path to model\n",
    "scraped_data_path = \"Data/Scraped Data/scraped_data.csv\" # path to scraped data\n",
    "helper_data_path_cleaned = \"Data/Helper Data/Cleaned Data/\" # path to helper data cleaned\n",
    "helper_data_path_dummied = \"Data/Helper Data/Dummy Transformed/\" # path to helper data dummied\n",
    "output_path = \"Data/Depreciation Data/dummied_new_observations.csv\" # output path of the prediction results"
   ]
  },
  {
   "cell_type": "code",
   "execution_count": 6,
   "id": "1f09e738",
   "metadata": {},
   "outputs": [
    {
     "name": "stdout",
     "output_type": "stream",
     "text": [
      "Dropped 0 entries due to shifted columns!\n",
      "Dropping 0 columns:\n",
      "[]\n",
      "Dropped 36 columns:\n",
      "['€ 0,-', 'Pkw Zulassung', 'Ladevolumen', 'zul. Zuggewicht', 'Achsen', 'Nutzlast', 'Radstand', 'Laderaumhöhe', 'Laderaumbreite', 'Laderaumlänge', 'zul. Gesamtgewicht', 'Sonderzahlung', 'Verfügbarkeit', 'Batteriebesitz', 'Letzter Zahnriemenwechsel', 'Verfügbar ab', 'Fahrzeugstand', 'Energieeffizienzklasse', 'CO₂-Effizienz', 'Bearbeitungsgebühren', 'Bruttodarlehensbetrag', 'Sollzins geb. p.a.', 'Letzte Inspektion', 'Baujahr', 'CO₂-Klasse', 'Schlüsselnummer', 'Gänge', 'Angebotsnummer', 'Farbe laut Hersteller', 'Farbe der Innenausstattung', 'Andere Energieträger', 'Fahrzeugzustand', 'Ladezeit von 10% bis 80%', 'Fahrleistung p.a.', 'Zulassungskosten', 'HU']\n",
      "Current Feature: Sicherheit\n",
      "Current Feature: Innenausstattung\n",
      "Current Feature: Unterhaltung/Media\n",
      "Current Feature: Extras\n",
      "Current Feature: Komfort\n",
      "Done!\n",
      "Dropped 5 columns:\n",
      "['Sicherheit', 'Innenausstattung', 'Unterhaltung/Media', 'Extras', 'Komfort']\n",
      "Dropped 2 columns:\n",
      "['time', 'date']\n",
      "Dropped 2 columns:\n",
      "['Erstzulassung', 'Erstzulassung_Monat']\n",
      "Car Valuation Done!\n"
     ]
    }
   ],
   "source": [
    "real_price, fair_price, lower_bound, upper_bound = get_prediction_results_val(url, scraped_data_path, helper_data_path_cleaned,\n",
    "                                                                          helper_data_path_dummied, output_path,\n",
    "                                                                          fixed_procentual_error, target_folder_model)"
   ]
  },
  {
   "cell_type": "code",
   "execution_count": 7,
   "id": "6450370c",
   "metadata": {},
   "outputs": [
    {
     "name": "stdout",
     "output_type": "stream",
     "text": [
      "Offer Price: 28000.00€\n",
      "Fair Price: 33107.78€\n",
      "Lower Bound: 28803.77€\n",
      "Upper Bound: 37411.79€\n"
     ]
    }
   ],
   "source": [
    "print(f\"Offer Price: {real_price:.2f}€\\nFair Price: {fair_price:.2f}€\\nLower Bound: {lower_bound:.2f}€\\nUpper Bound: {upper_bound:.2f}€\")"
   ]
  }
 ],
 "metadata": {
  "kernelspec": {
   "display_name": "Python 3 (ipykernel)",
   "language": "python",
   "name": "python3"
  },
  "language_info": {
   "codemirror_mode": {
    "name": "ipython",
    "version": 3
   },
   "file_extension": ".py",
   "mimetype": "text/x-python",
   "name": "python",
   "nbconvert_exporter": "python",
   "pygments_lexer": "ipython3",
   "version": "3.9.12"
  },
  "toc": {
   "base_numbering": 1,
   "nav_menu": {},
   "number_sections": true,
   "sideBar": false,
   "skip_h1_title": false,
   "title_cell": "Table of Contents",
   "title_sidebar": "Contents",
   "toc_cell": false,
   "toc_position": {},
   "toc_section_display": true,
   "toc_window_display": false
  },
  "varInspector": {
   "cols": {
    "lenName": 16,
    "lenType": 16,
    "lenVar": 40
   },
   "kernels_config": {
    "python": {
     "delete_cmd_postfix": "",
     "delete_cmd_prefix": "del ",
     "library": "var_list.py",
     "varRefreshCmd": "print(var_dic_list())"
    },
    "r": {
     "delete_cmd_postfix": ") ",
     "delete_cmd_prefix": "rm(",
     "library": "var_list.r",
     "varRefreshCmd": "cat(var_dic_list()) "
    }
   },
   "types_to_exclude": [
    "module",
    "function",
    "builtin_function_or_method",
    "instance",
    "_Feature"
   ],
   "window_display": false
  }
 },
 "nbformat": 4,
 "nbformat_minor": 5
}
