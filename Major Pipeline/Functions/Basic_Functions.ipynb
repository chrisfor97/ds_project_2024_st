{
 "cells": [
  {
   "cell_type": "markdown",
   "id": "8b61ac24",
   "metadata": {},
   "source": [
    "# Data Import"
   ]
  },
  {
   "cell_type": "markdown",
   "id": "3f0bf255",
   "metadata": {},
   "source": [
    "## Get the path of the input data"
   ]
  },
  {
   "cell_type": "code",
   "execution_count": 1,
   "id": "ec08f9e7",
   "metadata": {},
   "outputs": [],
   "source": [
    "def get_data_path(target_folder):\n",
    "    # get_data_path function begins\n",
    "    \n",
    "    # Process done by the function\n",
    "    current_dir = os.getcwd()\n",
    "    head_directory = os.path.dirname(current_dir)\n",
    "    input_path = os.path.join(head_directory, target_folder)\n",
    "    \n",
    "    return input_path"
   ]
  },
  {
   "cell_type": "markdown",
   "id": "c63f842c",
   "metadata": {},
   "source": [
    "## Get the most recent file"
   ]
  },
  {
   "cell_type": "code",
   "execution_count": 2,
   "id": "19991a87",
   "metadata": {},
   "outputs": [],
   "source": [
    "def get_most_recent_file(directory, n_most_recent_file):\n",
    "    # get_most_recent_file function begins\n",
    "    # List all files in the directory (you can adjust the pattern to match specific file types)\n",
    "    files = glob.glob(os.path.join(directory, '*'))\n",
    "    \n",
    "    # Process done by the function\n",
    "    files.sort(key=os.path.getmtime, reverse=True)\n",
    "    # Check if the directory has at\n",
    "    \n",
    "    # check if the directory has atleas n files\n",
    "    if len(files) < n_most_recent_file:\n",
    "        return None\n",
    "    \n",
    "    \n",
    "    return files[n_most_recent_file-1]"
   ]
  },
  {
   "cell_type": "markdown",
   "id": "d5bf4c2f",
   "metadata": {},
   "source": [
    "## Data Import"
   ]
  },
  {
   "cell_type": "markdown",
   "id": "21169450",
   "metadata": {},
   "source": [
    "# Evaluation Metrics"
   ]
  },
  {
   "cell_type": "markdown",
   "id": "b0f4ee8f",
   "metadata": {},
   "source": [
    "Define the RMSE (root-mean-squared-error) and the MSE (mean-squared-error). Both take an array for the numeric true y_values and an array for the numeric predicted y_values, which will be compared rowwise."
   ]
  },
  {
   "cell_type": "code",
   "execution_count": 19,
   "id": "5ee610a2",
   "metadata": {},
   "outputs": [],
   "source": [
    "# Define a function for the MSE\n",
    "def calc_mse(true_y, pred_y):\n",
    "    # calc_mse function begins\n",
    "    \n",
    "    # Process done by the function\n",
    "    sq_errors = []\n",
    "    for i in range(0, len(true_y)):\n",
    "        \n",
    "        curr_sq_err = np.square(true_y.iloc[i] - pred_y[i])\n",
    "        sq_errors.append(curr_sq_err)\n",
    "        \n",
    "    mse = np.mean(sq_errors)\n",
    "    \n",
    "    return(mse)\n",
    "\n",
    "\n",
    "# Define a function for the RMSE\n",
    "def calc_rmse(true_y, pred_y):\n",
    "    # calc_rmse function begins\n",
    "    \n",
    "    # Process done by the function\n",
    "    rsq_errors = []\n",
    "    for i in range(0, len(true_y)):\n",
    "        \n",
    "        curr_rsq_err = np.sqrt(np.square(true_y.iloc[i] - pred_y[i]))\n",
    "        rsq_errors.append(curr_rsq_err)\n",
    "        \n",
    "    rmse = np.mean(rsq_errors)\n",
    "    \n",
    "    return(rmse)"
   ]
  },
  {
   "cell_type": "code",
   "execution_count": null,
   "id": "18b204a5",
   "metadata": {},
   "outputs": [],
   "source": []
  }
 ],
 "metadata": {
  "kernelspec": {
   "display_name": "Python 3 (ipykernel)",
   "language": "python",
   "name": "python3"
  },
  "language_info": {
   "codemirror_mode": {
    "name": "ipython",
    "version": 3
   },
   "file_extension": ".py",
   "mimetype": "text/x-python",
   "name": "python",
   "nbconvert_exporter": "python",
   "pygments_lexer": "ipython3",
   "version": "3.9.12"
  },
  "toc": {
   "base_numbering": 1,
   "nav_menu": {},
   "number_sections": true,
   "sideBar": false,
   "skip_h1_title": false,
   "title_cell": "Table of Contents",
   "title_sidebar": "Contents",
   "toc_cell": false,
   "toc_position": {},
   "toc_section_display": true,
   "toc_window_display": false
  },
  "varInspector": {
   "cols": {
    "lenName": 16,
    "lenType": 16,
    "lenVar": 40
   },
   "kernels_config": {
    "python": {
     "delete_cmd_postfix": "",
     "delete_cmd_prefix": "del ",
     "library": "var_list.py",
     "varRefreshCmd": "print(var_dic_list())"
    },
    "r": {
     "delete_cmd_postfix": ") ",
     "delete_cmd_prefix": "rm(",
     "library": "var_list.r",
     "varRefreshCmd": "cat(var_dic_list()) "
    }
   },
   "types_to_exclude": [
    "module",
    "function",
    "builtin_function_or_method",
    "instance",
    "_Feature"
   ],
   "window_display": false
  }
 },
 "nbformat": 4,
 "nbformat_minor": 5
}
