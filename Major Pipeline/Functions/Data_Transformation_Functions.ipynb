{
 "cells": [
  {
   "cell_type": "markdown",
   "id": "7c0d3e5a",
   "metadata": {},
   "source": [
    "# Preparations"
   ]
  },
  {
   "cell_type": "markdown",
   "id": "3f0bf255",
   "metadata": {},
   "source": [
    "## Get the path of the input data"
   ]
  },
  {
   "cell_type": "markdown",
   "id": "d77c5730",
   "metadata": {},
   "source": [
    "## Get the path of the cleaned data"
   ]
  },
  {
   "cell_type": "code",
   "execution_count": null,
   "id": "ec08f9e7",
   "metadata": {},
   "outputs": [],
   "source": [
    "def get_clean_data_path(target_folder):\n",
    "    # get_clean_data_path function begins\n",
    "    \n",
    "    # Process done by the function\n",
    "    current_dir = os.getcwd()\n",
    "    head_directory = os.path.dirname(current_dir)\n",
    "    input_path = os.path.join(head_directory, target_folder)\n",
    "    \n",
    "    return input_path"
   ]
  },
  {
   "cell_type": "markdown",
   "id": "c63f842c",
   "metadata": {},
   "source": [
    "## Get the most recent file"
   ]
  },
  {
   "cell_type": "code",
   "execution_count": null,
   "id": "19991a87",
   "metadata": {},
   "outputs": [],
   "source": [
    "def get_most_recent_file(directory, n_most_recent_file):\n",
    "    # get_most_recent_file function begins\n",
    "    # List all files in the directory (you can adjust the pattern to match specific file types)\n",
    "    files = glob.glob(os.path.join(directory, '*'))\n",
    "    \n",
    "    # Process done by the function\n",
    "    files.sort(key=os.path.getmtime, reverse=True)\n",
    "    \n",
    "    # check if the directory has atleas n files\n",
    "    if len(files) < n_most_recent_file:\n",
    "        return None\n",
    "    \n",
    "    \n",
    "    return files[n_most_recent_file-1]"
   ]
  },
  {
   "cell_type": "markdown",
   "id": "567258e1",
   "metadata": {},
   "source": [
    "# Data Type Transformation"
   ]
  },
  {
   "cell_type": "markdown",
   "id": "08978df1",
   "metadata": {},
   "source": [
    "## Check on initial columns"
   ]
  },
  {
   "cell_type": "markdown",
   "id": "f37d37d3",
   "metadata": {},
   "source": [
    "## Preprocess Data Types"
   ]
  },
  {
   "cell_type": "code",
   "execution_count": 1,
   "id": "f7626023",
   "metadata": {},
   "outputs": [],
   "source": [
    "def data_type_transformer(df, columns_to_integers, columns_to_date, columns_to_floats,\n",
    "    # data_type_transformer function begins\n",
    "                          columns_to_categorical, columns_to_drop):\n",
    "    \n",
    "    # Process done by the function\n",
    "    df1 = df.copy()\n",
    "    \n",
    "    for i in columns_to_integers:\n",
    "        \n",
    "        df1[i] = df1[i].astype(\"int\")\n",
    "        \n",
    "        \n",
    "    for i in columns_to_date:\n",
    "        \n",
    "        df1[i] = pd.to_datetime(df1[i])\n",
    "        \n",
    "        \n",
    "    for i in columns_to_floats:\n",
    "        \n",
    "        df1[i] = df1[i].astype(\"float\")\n",
    "        \n",
    "    for i in columns_to_categorical:\n",
    "        \n",
    "        df1[i] = df1[i].astype(\"category\")\n",
    "        \n",
    "    df1 = df1.drop(columns = columns_to_drop)\n",
    "        \n",
    "        \n",
    "    return df1"
   ]
  },
  {
   "cell_type": "markdown",
   "id": "13362888",
   "metadata": {},
   "source": [
    "## Save Preprocessed Data"
   ]
  },
  {
   "cell_type": "code",
   "execution_count": 2,
   "id": "a0dbe1c2",
   "metadata": {},
   "outputs": [],
   "source": [
    "def save_type_transformed_data(df, target_folder):\n",
    "    # save_type_transformed_data function begins\n",
    "    \n",
    "    # Process done by the function\n",
    "    current_dir = os.getcwd()\n",
    "    output_path = os.path.join(current_dir, target_folder)\n",
    "    \n",
    "    now = datetime.now()\n",
    "    \n",
    "    # Format the datetime into the desired string format\n",
    "    formatted_time = now.strftime(\"%Y_%m_%d %H-%M\")\n",
    "    output_file = f\"{output_path}\\data_type_transformed_{formatted_time}.csv\"\n",
    "    \n",
    "    df.to_csv(output_file, index = False)\n",
    "\n",
    "    print(f\"Succesfully saved data type transformed dataframe to: \\n\\n{output_file} !\")"
   ]
  },
  {
   "cell_type": "markdown",
   "id": "ef8e953b",
   "metadata": {},
   "source": [
    "# Dummy Transformation"
   ]
  },
  {
   "cell_type": "markdown",
   "id": "68ea478f",
   "metadata": {},
   "source": [
    "## Unique Categorical Values Examination"
   ]
  },
  {
   "cell_type": "code",
   "execution_count": null,
   "id": "cbe49108",
   "metadata": {},
   "outputs": [],
   "source": [
    "def print_unique_values_counts(df):\n",
    "    # print_unique_values_counts function begins\n",
    "    \n",
    "    # Process done by the function\n",
    "    # Iterate over each column in the DataFrame\n",
    "    for column in df.columns:\n",
    "        # Check if the column's dtype is object (which often corresponds to strings)\n",
    "        if df[column].dtype == 'object':\n",
    "            # Get the unique value counts\n",
    "            unique_counts = df[column].nunique()\n",
    "            # Print the column name and the counts\n",
    "            print(f\"Column: {column}\")\n",
    "            print(unique_counts)\n",
    "            print(\"\\n\" + \"-\"*40 + \"\\n\")\n"
   ]
  },
  {
   "cell_type": "markdown",
   "id": "d2756dbd",
   "metadata": {},
   "source": [
    "## Perform Dummy Transformation"
   ]
  },
  {
   "cell_type": "markdown",
   "id": "1f844fcc",
   "metadata": {},
   "source": [
    "## Save Dummied Data"
   ]
  },
  {
   "cell_type": "code",
   "execution_count": 4,
   "id": "8ce7e597",
   "metadata": {},
   "outputs": [],
   "source": [
    "def save_dummied_data(df, target_folder):\n",
    "    # save_dummied_data function begins\n",
    "    \n",
    "    # Process done by the function\n",
    "    current_dir = os.getcwd()\n",
    "    output_path = os.path.join(current_dir, target_folder)\n",
    "    \n",
    "    now = datetime.now()\n",
    "    \n",
    "    # Format the datetime into the desired string format\n",
    "    formatted_time = now.strftime(\"%Y_%m_%d %H-%M\")\n",
    "    output_file = f\"{output_path}\\data_dummied_{formatted_time}.csv\"\n",
    "    \n",
    "    df.to_csv(output_file, index = False)\n",
    "\n",
    "    print(f\"Succesfully saved dummied dataframe to: \\n\\n{output_file} !\")"
   ]
  }
 ],
 "metadata": {
  "kernelspec": {
   "display_name": "Python 3 (ipykernel)",
   "language": "python",
   "name": "python3"
  },
  "language_info": {
   "codemirror_mode": {
    "name": "ipython",
    "version": 3
   },
   "file_extension": ".py",
   "mimetype": "text/x-python",
   "name": "python",
   "nbconvert_exporter": "python",
   "pygments_lexer": "ipython3",
   "version": "3.11.7"
  },
  "toc": {
   "base_numbering": 1,
   "nav_menu": {},
   "number_sections": true,
   "sideBar": true,
   "skip_h1_title": false,
   "title_cell": "Table of Contents",
   "title_sidebar": "Contents",
   "toc_cell": false,
   "toc_position": {
    "height": "calc(100% - 180px)",
    "left": "10px",
    "top": "150px",
    "width": "284.438px"
   },
   "toc_section_display": true,
   "toc_window_display": true
  },
  "varInspector": {
   "cols": {
    "lenName": 16,
    "lenType": 16,
    "lenVar": 40
   },
   "kernels_config": {
    "python": {
     "delete_cmd_postfix": "",
     "delete_cmd_prefix": "del ",
     "library": "var_list.py",
     "varRefreshCmd": "print(var_dic_list())"
    },
    "r": {
     "delete_cmd_postfix": ") ",
     "delete_cmd_prefix": "rm(",
     "library": "var_list.r",
     "varRefreshCmd": "cat(var_dic_list()) "
    }
   },
   "types_to_exclude": [
    "module",
    "function",
    "builtin_function_or_method",
    "instance",
    "_Feature"
   ],
   "window_display": false
  }
 },
 "nbformat": 4,
 "nbformat_minor": 5
}
