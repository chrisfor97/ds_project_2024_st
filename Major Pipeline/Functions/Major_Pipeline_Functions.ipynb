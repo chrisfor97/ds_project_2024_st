{
 "cells": [
  {
   "cell_type": "markdown",
   "id": "ee3870b7",
   "metadata": {},
   "source": [
    "# Get Pipeline Parameters"
   ]
  },
  {
   "cell_type": "code",
   "execution_count": 1,
   "id": "ab283f2c",
   "metadata": {},
   "outputs": [],
   "source": [
    "def get_user_inputs():\n",
    "    # get_user_inputs function begins\n",
    "    \n",
    "    # Process done by the function\n",
    "    incorrect_input = True\n",
    "    \n",
    "    while incorrect_input:\n",
    "        \n",
    "        do_cleaning = str(input(\"Create new Cleaned Data [yes/no]? \"))\n",
    "\n",
    "\n",
    "        if do_cleaning == \"yes\":\n",
    "\n",
    "            do_cleaning = True\n",
    "            incorrect_input = False\n",
    "\n",
    "        elif do_cleaning == \"no\":\n",
    "\n",
    "            do_cleaning = False\n",
    "            incorrect_input = False\n",
    "\n",
    "        else:\n",
    "            print(\"User input neither 'yes' nor 'no'! Try again!\")\n",
    "            incorrect_input = True\n",
    "        \n",
    "    incorrect_input = True\n",
    "    \n",
    "    while incorrect_input:\n",
    "        \n",
    "        do_dummy = input(\"Create new Dummied Data [yes/no]? \")\n",
    "\n",
    "        if do_dummy == \"yes\":\n",
    "\n",
    "            do_dummy = True\n",
    "            incorrect_input = False\n",
    "\n",
    "        elif do_dummy == \"no\":\n",
    "\n",
    "            do_dummy = False\n",
    "            incorrect_input = False\n",
    "\n",
    "        else:\n",
    "            print(\"User input neither 'yes' nor 'no'! Try again!\")\n",
    "            incorrect_input = True\n",
    "            \n",
    "            \n",
    "    incorrect_input = True\n",
    "    \n",
    "    while incorrect_input:\n",
    "        \n",
    "        create_model = input(\"Create new Model [yes/no]? \")\n",
    "\n",
    "        if create_model == \"yes\":\n",
    "\n",
    "            create_model = True\n",
    "            incorrect_input = False\n",
    "\n",
    "        elif create_model == \"no\":\n",
    "\n",
    "            create_model = False\n",
    "            incorrect_input = False\n",
    "\n",
    "        else:\n",
    "            print(\"User input neither 'yes' nor 'no'! Try again!\")\n",
    "            incorrect_input = True\n",
    "                                \n",
    "    \n",
    "    return do_cleaning, do_dummy, create_model"
   ]
  },
  {
   "cell_type": "code",
   "execution_count": null,
   "id": "b712011e",
   "metadata": {},
   "outputs": [],
   "source": []
  }
 ],
 "metadata": {
  "kernelspec": {
   "display_name": "Python 3 (ipykernel)",
   "language": "python",
   "name": "python3"
  },
  "language_info": {
   "codemirror_mode": {
    "name": "ipython",
    "version": 3
   },
   "file_extension": ".py",
   "mimetype": "text/x-python",
   "name": "python",
   "nbconvert_exporter": "python",
   "pygments_lexer": "ipython3",
   "version": "3.9.12"
  },
  "toc": {
   "base_numbering": 1,
   "nav_menu": {},
   "number_sections": true,
   "sideBar": false,
   "skip_h1_title": false,
   "title_cell": "Table of Contents",
   "title_sidebar": "Contents",
   "toc_cell": false,
   "toc_position": {},
   "toc_section_display": true,
   "toc_window_display": false
  },
  "varInspector": {
   "cols": {
    "lenName": 16,
    "lenType": 16,
    "lenVar": 40
   },
   "kernels_config": {
    "python": {
     "delete_cmd_postfix": "",
     "delete_cmd_prefix": "del ",
     "library": "var_list.py",
     "varRefreshCmd": "print(var_dic_list())"
    },
    "r": {
     "delete_cmd_postfix": ") ",
     "delete_cmd_prefix": "rm(",
     "library": "var_list.r",
     "varRefreshCmd": "cat(var_dic_list()) "
    }
   },
   "types_to_exclude": [
    "module",
    "function",
    "builtin_function_or_method",
    "instance",
    "_Feature"
   ],
   "window_display": false
  }
 },
 "nbformat": 4,
 "nbformat_minor": 5
}
