{
 "cells": [
  {
   "cell_type": "markdown",
   "id": "8974e7e5",
   "metadata": {},
   "source": [
    "# Detailed Scraping Parameters\n",
    "\n",
    "We have a list of exceptions in this script. These exceptions are deemed *not important* for the fair price of the car."
   ]
  },
  {
   "cell_type": "code",
   "execution_count": 1,
   "id": "dbfb1c5b",
   "metadata": {},
   "outputs": [],
   "source": [
    "import pandas as pd\n",
    "import numpy as np\n",
    "from datetime import datetime"
   ]
  },
  {
   "cell_type": "markdown",
   "id": "0817fd82",
   "metadata": {},
   "source": [
    "## Make a list of attributes that should be excluded from the scraping process."
   ]
  },
  {
   "cell_type": "code",
   "execution_count": 27,
   "id": "76e006ea",
   "metadata": {},
   "outputs": [],
   "source": [
    "attribute_exception_list = ['Anzahlung', 'Nettodarlehen',\n",
    "                           'Effektiver Jahreszins', 'Monatliche Rate',\n",
    "                           'Überführungskosten', 'Gesamt, einmalig',\n",
    "                           'Leasinggesamtbetrag', 'Vertragsart',\n",
    "                           'Leasingfaktor', 'Laufzeit', 'Mehr-km Kosten', 'Minder-km Vergütung',\n",
    "                           'Schlussrate', \"Länderversion\"]"
   ]
  }
 ],
 "metadata": {
  "kernelspec": {
   "display_name": "Python 3 (ipykernel)",
   "language": "python",
   "name": "python3"
  },
  "language_info": {
   "codemirror_mode": {
    "name": "ipython",
    "version": 3
   },
   "file_extension": ".py",
   "mimetype": "text/x-python",
   "name": "python",
   "nbconvert_exporter": "python",
   "pygments_lexer": "ipython3",
   "version": "3.9.12"
  },
  "toc": {
   "base_numbering": 1,
   "nav_menu": {},
   "number_sections": true,
   "sideBar": false,
   "skip_h1_title": false,
   "title_cell": "Table of Contents",
   "title_sidebar": "Contents",
   "toc_cell": false,
   "toc_position": {},
   "toc_section_display": true,
   "toc_window_display": false
  },
  "varInspector": {
   "cols": {
    "lenName": 16,
    "lenType": 16,
    "lenVar": 40
   },
   "kernels_config": {
    "python": {
     "delete_cmd_postfix": "",
     "delete_cmd_prefix": "del ",
     "library": "var_list.py",
     "varRefreshCmd": "print(var_dic_list())"
    },
    "r": {
     "delete_cmd_postfix": ") ",
     "delete_cmd_prefix": "rm(",
     "library": "var_list.r",
     "varRefreshCmd": "cat(var_dic_list()) "
    }
   },
   "types_to_exclude": [
    "module",
    "function",
    "builtin_function_or_method",
    "instance",
    "_Feature"
   ],
   "window_display": false
  }
 },
 "nbformat": 4,
 "nbformat_minor": 5
}
