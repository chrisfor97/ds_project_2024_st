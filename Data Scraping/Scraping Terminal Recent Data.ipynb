{
 "cells": [
  {
   "cell_type": "markdown",
   "id": "33e2927b",
   "metadata": {},
   "source": [
    "# Load Packages and self-defined Functions"
   ]
  },
  {
   "cell_type": "code",
   "execution_count": 1,
   "id": "88b17cb1",
   "metadata": {},
   "outputs": [],
   "source": [
    "%run Functions/Pipeline_Functions.ipynb\n",
    "%run Functions/Detailed_Scraping_Config.ipynb\n",
    "%run logging/Logging_Functions.ipynb\n",
    "%run logging/Logging_Dictionary.ipynb"
   ]
  },
  {
   "cell_type": "markdown",
   "id": "2d78ded4",
   "metadata": {},
   "source": [
    "# Set Scraping Parameters"
   ]
  },
  {
   "cell_type": "markdown",
   "id": "f323fa88",
   "metadata": {},
   "source": [
    "Use readme.txt \"1.2) Data Aqcuisition - Websrape Terminal\" for further usage information."
   ]
  },
  {
   "cell_type": "code",
   "execution_count": 2,
   "id": "cb7e2e2f",
   "metadata": {},
   "outputs": [],
   "source": [
    "# Parameters:\n",
    "## USER PARAMETERS\n",
    "user = \"recent_data\"  # user (str): choose an existing user for your scraping task\n",
    "\n",
    "## LOGGING\n",
    "create_new_logging_df = False  # create_new_logging_df (boolean): Whether you want to instantiate a new logging_df before starting the scraping process. If set to true, this kind of \"resets\" the scraping tasks for the current user to the values that you're giving in the next parameters.\n",
    "start_year = int(2005)  # start_year (int): Only used if create_new_logging_df = True: Set the oldest year of initial approval that you want to respect when scraping.\n",
    "end_year = int(2024)  # end_year (int): Only used if create_new_logging_df = True: Set the newest year of initial approval that you want to respect when scraping.\n",
    "runner = 0  # runner(int): Only used if create_new_logging_df = True: Helper variable that is usually set to 0.\n",
    "user_list = [\"chris\", \"christopher\", \"janik\", \"chris2\", \"recent_data\"]  # user_list (list(of string)): Only used if create_new_logging_df = True: Provide a list of all users that should be respected in the newly created logging_df. Make sure to include your own user here!\n",
    "\n",
    "## SCRAPING LOOP PARAMETERS\n",
    "n_tries = 100  # n_tries (int): Specify the number of retries when an error occurs in the main loop while scraping. Errors typically arise when AutoScout24.de detects a robot and closes the connection. When this happens, the IP-address is changed and the scraping is attempted additional n_tries-1 times.\n",
    "sleep_interval = [1, 2]  # sleep_interval (list(of integers)): Interval to pick a random float from to define sleeping time after a request is done on AutoScout24.de. We decided to implement a random number for sleeping to prevent robot detection.\n",
    "max_pages = 20  # max_pages (int): Define how many pages per search request on AutoScout24.de are searched through. This should generally be set to 20 (maximum amount of pages on AutoScout24.de).\n",
    "print_duplicate_url = False  # print_duplicate_url (boolean): Define whether the URL of found duplicates should be printed. This is only set to True for pipeline examination purposes.\n",
    "\n",
    "## RECENCY PARAMETERS\n",
    "adage =  21  # adage (int): Define how old in days the observations searched on AutoScout24.de should be at max. This variable is very useful when deploying a new scraping task after an old one was completed. In that case, the adage should be set to a low value to prevent rescraping data that was already scraped with the last scraping task. However, even if duplicates are scraped, they won't be added to the scraped_data, but are dropped immediately. Therefore, this variable just helps to make the loop more efficient.\n",
    "use_recency = True  # use_recency (boolean): Whether to scrape only recent data (using adage) or not.\n",
    "\n",
    "## VPN PARAMETERS\n",
    "area_input = ['random countries europe 8']  # area_input (list(of area identifiers for NordVPN): Usually is ['random countries europe 8'] to make sure NordVPN only connects to IP-addresses in Europe.\n",
    "\n",
    "## SAVING PARAMETERS\n",
    "save_results_local = False  # save_results_local (boolean): Set whether the results df should be loaded and saved to a local path. This is only used for testing purposes, for example when the Cloud Service is not reachable.\n",
    "do_backup = False  # do_backup (boolean): If set to true, the pipeline will create a backup csv after each model that is finished. This is a very time-intensive step when set to True. Backup solutions have later been implemented within the webscrape_loop_optimized(), which handle that the scraped data is saved (backed up) in any unwanted scenario like loss of internet connection or keyboard-interrupt.\n",
    "\n",
    "if save_results_local:\n",
    "    # in_out_path (str): Fixed path to local file where scraped data should be stored, when save_results_local is set to True.\n",
    "    in_out_path = f\"C:/Users/Chris/Desktop/Data Science Project Backup/Local Scraping Data/{user}_data.csv\"\n",
    "else:\n",
    "    # in_out_path (str): Relative Path to where the scraped data should be stored on the cloud.\n",
    "    in_out_path = f\"scraped_data/{user}/{user}_data.csv\""
   ]
  },
  {
   "cell_type": "markdown",
   "id": "b947f430",
   "metadata": {},
   "source": [
    "# Instantiate New Logging DF if wanted"
   ]
  },
  {
   "cell_type": "code",
   "execution_count": 3,
   "id": "2953898d",
   "metadata": {},
   "outputs": [],
   "source": [
    "# reset logging df if defined ealier\n",
    "\n",
    "if create_new_logging_df:\n",
    "    \n",
    "    logging_df = instantiate_logging_df(start_year = start_year, end_year = end_year,\n",
    "                                    user_list = user_list,\n",
    "                                    model_dictionaries = model_dictionaries)\n",
    "    \n",
    "    logging_df.to_csv(\"logging/logging_data/logging_df_\" + str(user) + \".csv\", index = False)"
   ]
  },
  {
   "cell_type": "markdown",
   "id": "48889972",
   "metadata": {},
   "source": [
    "# Set up NordVPN Config"
   ]
  },
  {
   "cell_type": "code",
   "execution_count": 4,
   "id": "820f2239",
   "metadata": {},
   "outputs": [
    {
     "name": "stdout",
     "output_type": "stream",
     "text": [
      "\u001b[33mYou're using Windows.\n",
      "Performing system check...\n",
      "###########################\n",
      "\u001b[0m\n",
      "NordVPN installation check: \u001b[92m✓\u001b[0m\n",
      "NordVPN service check: \u001b[92m✓\u001b[0m\n",
      "Opening NordVPN app and disconnecting if necessary...\n",
      "NordVPN app launched: \u001b[92m✓\u001b[0m\n",
      "#####################################\n",
      "\n",
      "You've entered a list of connection options. Checking list...\n",
      "\n",
      "\n",
      "Done!\n",
      "\n"
     ]
    }
   ],
   "source": [
    "#instructions for VPN\n",
    "instructions_vpn = initialize_VPN(area_input = area_input)\n"
   ]
  },
  {
   "cell_type": "markdown",
   "id": "5f51d001",
   "metadata": {},
   "source": [
    "# Run Webscrape Loop"
   ]
  },
  {
   "cell_type": "code",
   "execution_count": 5,
   "id": "2a0c63b5",
   "metadata": {},
   "outputs": [
    {
     "name": "stdout",
     "output_type": "stream",
     "text": [
      "Loaded 170913 entries.\n",
      "\n",
      "\n",
      "Brand: mercedes-benz\n",
      "Model: cla-(alle)\n",
      "Year: 2024\n",
      "Page: 1\n",
      "\n",
      "Current Amount of total Entries: 170913!\n",
      "Current Time: 2024-07-16 12:45:58\n",
      "Number of total offers: 0\n",
      "No offers for this year, continuing with next year!\n",
      "Offers for 2024: 0, Duplicates: 0\n",
      "\n",
      "CURRENTLY SAVING LOGGING_DF, DONT STOP!\n",
      "SAVING DONE!\n",
      "\n",
      "##################################################################\n",
      "\n",
      "\n",
      "Your current ip-address is: 84.166.158.186\n",
      "\n",
      "\u001b[34mConnecting you to United Kingdom ...\n",
      "\u001b[0m\n",
      "\n",
      " An unknown error occurred while connecting to a different server! Retrying with a different server...\n",
      "\n",
      "\n",
      "\u001b[34mConnecting you to Slovakia ...\n",
      "\u001b[0m\n",
      "your new ip-address is: 178.132.111.200\n",
      "\n",
      "Done! Enjoy your new server.\n",
      "\n",
      "\n",
      "Brand: mercedes-benz\n",
      "Model: clk-(alle)\n",
      "Year: 2005\n",
      "Page: 1\n",
      "\n",
      "Current Amount of total Entries: 170913!\n",
      "Current Time: 2024-07-16 12:46:46\n",
      "Number of total offers: 27\n",
      "Found 20 offers on this page.\n",
      "\n",
      "\n",
      "Interrupted by user. Saving data...\n",
      "Data saved successfully!\n",
      "\n"
     ]
    }
   ],
   "source": [
    "result_df = webscrape_loop_optimized(user = user,\n",
    "                          sleep_interval = sleep_interval,\n",
    "                          attribute_exception_list = attribute_exception_list,\n",
    "                          instructions_vpn = instructions_vpn,\n",
    "                          in_out_path = in_out_path,\n",
    "                          n_tries = n_tries,\n",
    "                          max_pages = max_pages,\n",
    "                          do_backup = do_backup,\n",
    "                          adage = adage, use_recency = use_recency,\n",
    "                          print_duplicate_url = print_duplicate_url)"
   ]
  }
 ],
 "metadata": {
  "kernelspec": {
   "display_name": "Python 3 (ipykernel)",
   "language": "python",
   "name": "python3"
  },
  "language_info": {
   "codemirror_mode": {
    "name": "ipython",
    "version": 3
   },
   "file_extension": ".py",
   "mimetype": "text/x-python",
   "name": "python",
   "nbconvert_exporter": "python",
   "pygments_lexer": "ipython3",
   "version": "3.9.12"
  },
  "toc": {
   "base_numbering": 1,
   "nav_menu": {},
   "number_sections": true,
   "sideBar": false,
   "skip_h1_title": false,
   "title_cell": "Table of Contents",
   "title_sidebar": "Contents",
   "toc_cell": false,
   "toc_position": {},
   "toc_section_display": true,
   "toc_window_display": false
  },
  "varInspector": {
   "cols": {
    "lenName": 16,
    "lenType": 16,
    "lenVar": 40
   },
   "kernels_config": {
    "python": {
     "delete_cmd_postfix": "",
     "delete_cmd_prefix": "del ",
     "library": "var_list.py",
     "varRefreshCmd": "print(var_dic_list())"
    },
    "r": {
     "delete_cmd_postfix": ") ",
     "delete_cmd_prefix": "rm(",
     "library": "var_list.r",
     "varRefreshCmd": "cat(var_dic_list()) "
    }
   },
   "types_to_exclude": [
    "module",
    "function",
    "builtin_function_or_method",
    "instance",
    "_Feature"
   ],
   "window_display": false
  }
 },
 "nbformat": 4,
 "nbformat_minor": 5
}
