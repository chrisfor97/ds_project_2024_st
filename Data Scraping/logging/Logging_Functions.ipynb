{
 "cells": [
  {
   "cell_type": "markdown",
   "id": "f4cc83c3",
   "metadata": {},
   "source": [
    "# Logging Functions\n",
    "\n",
    "In this script we define the `logging functions` we are using to create the logging data frames."
   ]
  },
  {
   "cell_type": "markdown",
   "id": "be2ead8f",
   "metadata": {},
   "source": [
    "## Instantiation\n",
    "\n",
    "Instantiation of the logging data frames."
   ]
  },
  {
   "cell_type": "code",
   "execution_count": null,
   "id": "465888d4",
   "metadata": {},
   "outputs": [],
   "source": [
    "def instantiate_logging_df(start_year, end_year, user_list, model_dictionaries):\n",
    "    # Initialize variables\n",
    "    runner = 0\n",
    "    \n",
    "    # Create an empty DataFrame for logging\n",
    "    logging_df = pd.DataFrame({\"user\" : [], \"brand\" : [], \"model\" : [], \"start_year\" : [], \"curr_year\" : [], \"end_year\" : [], \"last_scraped\" : []})\n",
    "    \n",
    "    # Iterate over user, brand, and model combinations to populate the logging DataFrame\n",
    "    for curr_user in model_dictionaries.keys():\n",
    "        for curr_brand in model_dictionaries[curr_user].keys():\n",
    "            for curr_model in model_dictionaries[curr_user][curr_brand]:\n",
    "                # Create a DataFrame for each model entry\n",
    "                curr_df = pd.DataFrame({\"user\" : [user_list[runner]], \"brand\" : [curr_brand], \"model\" : [curr_model], \"start_year\" : [start_year], \"curr_year\" : [start_year], \"end_year\" : [end_year], \"last_scraped\" : [\"not yet scraped\"]})\n",
    "                # Concatenate the current DataFrame with the main logging DataFrame\n",
    "                logging_df = pd.concat([logging_df, curr_df])\n",
    "                \n",
    "        # Increment the runner to track user index\n",
    "        runner += 1\n",
    "        \n",
    "    return(logging_df)"
   ]
  },
  {
   "cell_type": "markdown",
   "id": "5b3f2525",
   "metadata": {},
   "source": [
    "#### Logging DF sorting (prioritizing) functions"
   ]
  },
  {
   "cell_type": "code",
   "execution_count": 7,
   "id": "eaeb4200",
   "metadata": {},
   "outputs": [],
   "source": [
    "# This function prioritizes a specific brand in the logging DataFrame for a given user.\n",
    "def prioritize_brand(brand_to_sort, user):\n",
    "    \n",
    "    # Read the logging DataFrame\n",
    "    logging_df = pd.read_csv(\"logging_data/logging_df_\" + str(user) + \".csv\")\n",
    "    \n",
    "    # Check if the brand exists in the logging DataFrame\n",
    "    if brand_to_sort in logging_df[\"brand\"].unique():\n",
    "        \n",
    "        # Move the rows with the specified brand to the top\n",
    "        logging_df = pd.concat([logging_df[logging_df['brand'] == brand_to_sort], logging_df[logging_df['brand'] != brand_to_sort]])\n",
    "        # Save the modified DataFrame back to the file\n",
    "        logging_df.to_csv(\"logging/logging_df_\" + str(user) + \".csv\", index = False)\n",
    "        \n",
    "    else:\n",
    "        # Print a message if the brand is not found in the DataFrame\n",
    "        print(\"Brand '\" + str(brand_to_sort) + \"' not found!\")"
   ]
  },
  {
   "cell_type": "code",
   "execution_count": null,
   "id": "a4915c6c",
   "metadata": {},
   "outputs": [],
   "source": [
    "# This function prioritizes specific models in the logging DataFrame for a given user.\n",
    "def prioritize_models(models_to_sort, user):\n",
    "    \n",
    "    # Read the logging DataFrame\n",
    "    logging_df = pd.read_csv(\"logging_data/logging_df_\" + str(user) + \".csv\")\n",
    "    \n",
    "    # Iterate over models to prioritize\n",
    "    for curr_model_to_sort in models_to_sort:\n",
    "        \n",
    "        # Check if the model exists in the logging DataFrame\n",
    "        if curr_model_to_sort in logging_df[\"model\"].unique():\n",
    "            \n",
    "            # Move the rows with the specified model to the top\n",
    "            logging_df = pd.concat([logging_df[logging_df['model'] == curr_model_to_sort], logging_df[logging_df['model'] != curr_model_to_sort]])\n",
    "            # Save the modified DataFrame back to the file\n",
    "            logging_df.to_csv(\"logging_data/logging_df_\" + str(user) + \".csv\", index = False)\n",
    "        else:\n",
    "            # Print a message if the model is not found in the DataFrame\n",
    "            print(\"Model '\" + str(model_to_sort) + \"' not found!\")"
   ]
  },
  {
   "cell_type": "markdown",
   "id": "87781457",
   "metadata": {},
   "source": [
    "#### Logging DF setting start, end and current year."
   ]
  },
  {
   "cell_type": "code",
   "execution_count": null,
   "id": "7b0e1d41",
   "metadata": {},
   "outputs": [],
   "source": [
    "# This function sets the start and end year for scraping for a given user in the logging DataFrame.\n",
    "def set_start_and_end_year(user, start_year, end_year):\n",
    "    \n",
    "    # Read the logging DataFrame\n",
    "    logging_df = pd.read_csv(\"logging_data/logging_df_\" + str(user) + \".csv\")\n",
    "    \n",
    "    # Set the start and end year\n",
    "    logging_df[\"start_year\"] = start_year\n",
    "    logging_df[\"end_year\"] = end_year\n",
    "    \n",
    "    # Save the modified DataFrame back to the file\n",
    "    logging_df.to_csv(\"logging_data/logging_df_\" + str(user) + \".csv\", index = False)"
   ]
  },
  {
   "cell_type": "code",
   "execution_count": null,
   "id": "855277da",
   "metadata": {},
   "outputs": [],
   "source": [
    "# This function resets the current year for specified models to a given year in the logging DataFrame for a given user.\n",
    "def reset_current_year(user, year_to_reset_to, models_to_reset):\n",
    "    \n",
    "    # Read the logging DataFrame\n",
    "    logging_df = pd.read_csv(\"logging_data/logging_df_\" + str(user) + \".csv\")\n",
    "    \n",
    "    # Iterate over models to reset\n",
    "    for curr_model_to_reset in models_to_reset:\n",
    "        \n",
    "        # Check if the model exists in the logging DataFrame\n",
    "        if curr_model_to_reset in logging_df[\"model\"].unique():\n",
    "            # Set the current year for the specified model\n",
    "            logging_df.loc[logging_df[\"model\"] == curr_model_to_reset, \"curr_year\"] = year_to_reset_to\n",
    "            # Save the modified DataFrame back to the file\n",
    "            logging_df.to_csv(\"logging_data/logging_df_\" + str(user) + \".csv\", index = False)\n",
    "\n",
    "        else:\n",
    "            # Print a message if the model is not found in the DataFrame\n",
    "            print(\"Model '\" + str(curr_model_to_reset) + \"' not found!\")"
   ]
  },
  {
   "cell_type": "code",
   "execution_count": null,
   "id": "e4e61a1f",
   "metadata": {},
   "outputs": [],
   "source": [
    "# This function adds models to the logging DataFrame for a given user.\n",
    "def add_models_to_logging(user, start_year, curr_year, end_year, brand, models_to_add):\n",
    "    \n",
    "    # Read the logging DataFrame\n",
    "    logging_df = pd.read_csv(\"logging_data/logging_df_\" + str(user) + \".csv\")\n",
    "    \n",
    "    # Iterate over models to add\n",
    "    for curr_model_to_add in models_to_add:\n",
    "        \n",
    "        # Check if the model is not already present for the specified brand\n",
    "        if curr_model_to_add not in list(logging_df[logging_df[\"brand\"] == brand][\"model\"].unique()):\n",
    "            \n",
    "            # Create a DataFrame entry for the new model\n",
    "            curr_entry = pd.DataFrame({\"user\" : [user], \"brand\" : [brand], \"model\" : [curr_model_to_add], \"start_year\" : [start_year], \"curr_year\" : [curr_year], \"end_year\" : [end_year], \"last_scraped\" : [\"not yet scraped\"]})\n",
    "            # Concatenate the new entry with the logging DataFrame\n",
    "            logging_df = pd.concat([logging_df, curr_entry])\n",
    "    \n",
    "    # Save the modified DataFrame back to the file\n",
    "    logging_df.to_csv(\"logging_data/logging_df_\" + str(user) + \".csv\", index = False)"
   ]
  }
 ],
 "metadata": {
  "kernelspec": {
   "display_name": "Python 3 (ipykernel)",
   "language": "python",
   "name": "python3"
  },
  "language_info": {
   "codemirror_mode": {
    "name": "ipython",
    "version": 3
   },
   "file_extension": ".py",
   "mimetype": "text/x-python",
   "name": "python",
   "nbconvert_exporter": "python",
   "pygments_lexer": "ipython3",
   "version": "3.9.12"
  },
  "toc": {
   "base_numbering": 1,
   "nav_menu": {},
   "number_sections": true,
   "sideBar": false,
   "skip_h1_title": false,
   "title_cell": "Table of Contents",
   "title_sidebar": "Contents",
   "toc_cell": false,
   "toc_position": {},
   "toc_section_display": true,
   "toc_window_display": false
  },
  "varInspector": {
   "cols": {
    "lenName": 16,
    "lenType": 16,
    "lenVar": 40
   },
   "kernels_config": {
    "python": {
     "delete_cmd_postfix": "",
     "delete_cmd_prefix": "del ",
     "library": "var_list.py",
     "varRefreshCmd": "print(var_dic_list())"
    },
    "r": {
     "delete_cmd_postfix": ") ",
     "delete_cmd_prefix": "rm(",
     "library": "var_list.r",
     "varRefreshCmd": "cat(var_dic_list()) "
    }
   },
   "types_to_exclude": [
    "module",
    "function",
    "builtin_function_or_method",
    "instance",
    "_Feature"
   ],
   "window_display": false
  }
 },
 "nbformat": 4,
 "nbformat_minor": 5
}
