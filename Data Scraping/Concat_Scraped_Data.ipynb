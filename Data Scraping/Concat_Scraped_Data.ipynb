{
 "cells": [
  {
   "cell_type": "code",
   "execution_count": 1,
   "id": "f38f00e0",
   "metadata": {},
   "outputs": [],
   "source": [
    "%run Pipeline_Functions.ipynb"
   ]
  },
  {
   "cell_type": "markdown",
   "id": "d217b979",
   "metadata": {},
   "source": [
    "# Import and Concatenate Scraped User Data"
   ]
  },
  {
   "cell_type": "code",
   "execution_count": 2,
   "id": "acf31296",
   "metadata": {},
   "outputs": [
    {
     "name": "stdout",
     "output_type": "stream",
     "text": [
      "Data from chris succesfully loaded with 170872 entries!\n",
      "Data from christopher succesfully loaded with 4916 entries!\n",
      "Data from chris2 succesfully loaded with 79347 entries!\n",
      "Data from janik succesfully loaded with 204822 entries!\n",
      "Data from christopher2 succesfully loaded with 102854 entries!\n",
      "\n",
      "Concatenated DF created with 562811 entries!\n",
      "\n"
     ]
    }
   ],
   "source": [
    "# import specifications\n",
    "user_list = [\"chris\", \"christopher\", \"chris2\", \"janik\", \"christopher2\"] # user_list (list(of strings)): Define data of which users should be concattenated.\n",
    "project_location = \"\" # project_location (string): Refine the location of where to find the scraped_data. With our data structure it is set to \"\", but with different strings the path of the scraped_data can be adjusted if it would lie at another location.\n",
    "\n",
    "# import and concatenate\n",
    "scraped_data = get_scraped_data(user_list, project_location)\n",
    "\n",
    "print(\"\")"
   ]
  },
  {
   "cell_type": "markdown",
   "id": "a0722a7f",
   "metadata": {},
   "source": [
    "# Drop Unnamed Columns"
   ]
  },
  {
   "cell_type": "code",
   "execution_count": 3,
   "id": "218e37c6",
   "metadata": {
    "scrolled": true
   },
   "outputs": [
    {
     "name": "stdout",
     "output_type": "stream",
     "text": [
      "Dropping 84 columns:\n",
      "['Unnamed: 73', 'Unnamed: 74', 'Unnamed: 75', 'Unnamed: 76', 'Unnamed: 77', 'Unnamed: 78', 'Unnamed: 79', 'Unnamed: 80', 'Unnamed: 81', 'Unnamed: 82', 'Unnamed: 83', 'Unnamed: 84', 'Unnamed: 85', 'Unnamed: 86', 'Unnamed: 87', 'Unnamed: 88', 'Unnamed: 89', 'Unnamed: 90', 'Unnamed: 91', 'Unnamed: 92', 'Unnamed: 93', 'Unnamed: 94', 'Unnamed: 95', 'Unnamed: 96', 'Unnamed: 97', 'Unnamed: 98', 'Unnamed: 99', 'Unnamed: 100', 'Unnamed: 101', 'Unnamed: 102', 'Unnamed: 103', 'Unnamed: 104', 'Unnamed: 105', 'Unnamed: 106', 'Unnamed: 107', 'Unnamed: 110', 'Unnamed: 111', 'Unnamed: 121', 'Unnamed: 122', 'Unnamed: 57', 'Unnamed: 61', 'Unnamed: 65', 'Unnamed: 66', 'Unnamed: 67', 'Unnamed: 68', 'Unnamed: 69', 'Unnamed: 70', 'Unnamed: 71', 'Unnamed: 72', 'Unnamed: 63', 'Unnamed: 64', 'Unnamed: 49', 'Unnamed: 54', 'Unnamed: 108', 'Unnamed: 109', 'Unnamed: 112', 'Unnamed: 113', 'Unnamed: 114', 'Unnamed: 115', 'Unnamed: 116', 'Unnamed: 117', 'Unnamed: 118', 'Unnamed: 123', 'Unnamed: 124', 'Unnamed: 125', 'Unnamed: 126', 'Unnamed: 130', 'Unnamed: 131', 'Unnamed: 132', 'Unnamed: 133', 'Unnamed: 134', 'Unnamed: 135', 'Unnamed: 136', 'Unnamed: 138', 'Unnamed: 139', 'Unnamed: 140', 'Unnamed: 141', 'Unnamed: 142', 'Unnamed: 150', 'Unnamed: 152', 'Unnamed: 58', 'Unnamed: 52', 'Unnamed: 44', 'Unnamed: 53']\n"
     ]
    }
   ],
   "source": [
    "scraped_data = drop_unnamed_columns(scraped_data)"
   ]
  },
  {
   "cell_type": "markdown",
   "id": "e310c8d1",
   "metadata": {},
   "source": [
    "# Save Concatenated Scraped Data"
   ]
  },
  {
   "cell_type": "code",
   "execution_count": 4,
   "id": "206d5a56",
   "metadata": {},
   "outputs": [],
   "source": [
    "save_scraped_data = True\n",
    "\n",
    "if save_scraped_data:\n",
    "    \n",
    "    scraped_data.to_csv(\"scraped_data//all_concatenated//scraped_data.csv\", index = False)"
   ]
  }
 ],
 "metadata": {
  "kernelspec": {
   "display_name": "Python 3 (ipykernel)",
   "language": "python",
   "name": "python3"
  },
  "language_info": {
   "codemirror_mode": {
    "name": "ipython",
    "version": 3
   },
   "file_extension": ".py",
   "mimetype": "text/x-python",
   "name": "python",
   "nbconvert_exporter": "python",
   "pygments_lexer": "ipython3",
   "version": "3.9.12"
  },
  "toc": {
   "base_numbering": 1,
   "nav_menu": {},
   "number_sections": true,
   "sideBar": false,
   "skip_h1_title": false,
   "title_cell": "Table of Contents",
   "title_sidebar": "Contents",
   "toc_cell": false,
   "toc_position": {},
   "toc_section_display": true,
   "toc_window_display": false
  },
  "varInspector": {
   "cols": {
    "lenName": 16,
    "lenType": 16,
    "lenVar": 40
   },
   "kernels_config": {
    "python": {
     "delete_cmd_postfix": "",
     "delete_cmd_prefix": "del ",
     "library": "var_list.py",
     "varRefreshCmd": "print(var_dic_list())"
    },
    "r": {
     "delete_cmd_postfix": ") ",
     "delete_cmd_prefix": "rm(",
     "library": "var_list.r",
     "varRefreshCmd": "cat(var_dic_list()) "
    }
   },
   "types_to_exclude": [
    "module",
    "function",
    "builtin_function_or_method",
    "instance",
    "_Feature"
   ],
   "window_display": false
  }
 },
 "nbformat": 4,
 "nbformat_minor": 5
}
